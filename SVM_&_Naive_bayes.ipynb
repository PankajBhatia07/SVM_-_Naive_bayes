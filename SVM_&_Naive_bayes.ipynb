{
  "cells": [
    {
      "cell_type": "markdown",
      "metadata": {
        "id": "QIFCCrpnp8GC"
      },
      "source": [
        "# ***Theory Question***"
      ]
    },
    {
      "cell_type": "markdown",
      "metadata": {
        "id": "T6xS2GijbHmf"
      },
      "source": [
        "## **Q1.What is a Support Vector Machine (SVM)?**"
      ]
    },
    {
      "cell_type": "markdown",
      "metadata": {
        "id": "PWsxi4i8bOVG"
      },
      "source": [
        "A Support Vector Machine (SVM) is a supervised machine learning algorithm used for classification and regression tasks. It works by finding the optimal hyperplane that best separates data points of different classes in a high-dimensional space.\n"
      ]
    },
    {
      "cell_type": "markdown",
      "metadata": {
        "id": "HNIZx-TebHpo"
      },
      "source": [
        "## **Q2. What is the difference between Hard Margin and Soft Margin SVM?**"
      ]
    },
    {
      "cell_type": "markdown",
      "metadata": {
        "id": "zJDL_OvpbY5Y"
      },
      "source": [
        "The difference between Hard Margin and Soft Margin SVM lies in how strictly the model separates the data:\n",
        "\n",
        "- **Hard Margin SVM:**\n",
        "\n",
        " - Assumes data is perfectly linearly separable.\n",
        "\n",
        " - No misclassification is allowed.\n",
        "\n",
        " - Finds the maximum-margin hyperplane with zero tolerance for errors.\n",
        "\n",
        " - Not suitable for noisy or overlapping data.\n",
        "\n",
        "- **Soft Margin SVM:**\n",
        "\n",
        " - Allows some misclassifications or violations.\n",
        "\n",
        " * Introduces a penalty parameter (C) to balance margin size and classification error.\n",
        "\n",
        " - More flexible and works better with real-world, noisy data."
      ]
    },
    {
      "cell_type": "markdown",
      "metadata": {
        "id": "jk0cd17Qb6X7"
      },
      "source": [
        "## **Q3.What is the mathematical intuition behind SVM?**"
      ]
    },
    {
      "cell_type": "markdown",
      "metadata": {
        "id": "N_cOblCqffh5"
      },
      "source": [
        "**Mathematical Intuition Behind SVM**\n",
        "\n",
        "The mathematical intuition behind SVM is to find the hyperplane that **maximizes the margin** between two classes. Here's a simplified breakdown:\n",
        "\n",
        "\n",
        "**1. Hyperplane**\n",
        "\n",
        "A hyperplane in an $n$-dimensional space separates the data into classes. It’s defined as:\n",
        "\n",
        "$$\\mathbf{w} \\cdot \\mathbf{x} + b = 0\n",
        "$$\n",
        "\n",
        "Where:\n",
        "- $\\mathbf{w}$ is the **weight vector** (normal to the hyperplane)  \n",
        "- $\\mathbf{x}$ is the **input feature vector**  \n",
        "- $b$ is the **bias**\n",
        "\n",
        "\n",
        "\n",
        "**2. Margin**\n",
        "\n",
        "Margin is the distance between the hyperplane and the nearest data points from each class (called support vectors). SVM aims to maximize this margin:\n",
        "\n",
        "$$\\text{Margin} = \\frac{2}{\\|\\mathbf{w}\\|}\n",
        "$$\n",
        "\n",
        "So, to maximize the margin, we minimize $\\mathbf{||w||^2}$ , subject to the constraint:\n",
        "\n",
        "$$y_i(\\mathbf{w} \\cdot \\mathbf{x}_i + b) \\geq 1$$\n",
        "\n",
        "for all training examples $(\\mathbf{x}_i, y_i)$, where $y_i \\in \\{-1, +1\\}$.\n",
        "\n",
        "\n",
        "\n",
        "\n",
        "**3. Soft Margin (with Slack Variables)**\n",
        "\n",
        "For non-linearly separable data, we allow some violations using slack variables $\\xi_i$:\n",
        "\n",
        "$$y_i(\\mathbf{w} \\cdot \\mathbf{x}_i + b) \\geq 1 - \\xi_i \\quad \\text{and} \\quad \\xi_i \\geq 0 $$\n",
        "\n",
        "The new objective becomes:\n",
        "\n",
        "$$\n",
        "\\min \\left( \\frac{1}{2} \\|\\mathbf{w}\\|^2 + C \\sum_{i=1}^{n} \\xi_i \\right)$$\n",
        "\n",
        "Where **C** is a regularization parameter that balances margin size and classification error.\n"
      ]
    },
    {
      "cell_type": "markdown",
      "metadata": {
        "id": "gN6ZQr979sgq"
      },
      "source": [
        "## **Q4. What is the role of Lagrange Multipliers in SVM?**"
      ]
    },
    {
      "cell_type": "markdown",
      "metadata": {
        "id": "hJ4jxYLP98XX"
      },
      "source": [
        "**Objective of SVM:**\n",
        "\n",
        "SVM aims to find the optimal hyperplane that maximizes the margin (distance between the hyperplane and the nearest data points from both classes) for a given labeled training dataset.\n",
        "\n",
        "**The Optimization Problem (Primal Form)**\n",
        "\n",
        "For a linearly separable dataset, the primal optimization problem is:\n",
        "\n",
        "$$\\min_{w, b} \\ \\frac{1}{2} \\|w\\|^2$$\n",
        "\n",
        "Subject to:\n",
        "\n",
        "$$y_i (w^T x_i + b) \\geq 1 \\quad \\text{for all } i$$\n",
        "\n",
        "Where:\n",
        "- w: weight vector  \n",
        "- *b* : bias term  \n",
        "-  $x_i,y_i$: input data and labels  \n",
        "\n",
        "- This is a constrained quadratic optimization problem.\n",
        "\n",
        "\n",
        "**Introducing Lagrange Multipliers**\n",
        "\n",
        "To solve this constrained optimization problem, we introduce Lagrange multipliers $ \\alpha_i \\geq 0 $ for each constraint.\n",
        "\n",
        "We form the Lagrangian:\n",
        "\n",
        "$$ L(w, b, \\alpha) = \\frac{1}{2} \\|w\\|^2 - \\sum_{i=1}^{n} \\alpha_i \\left[ y_i (w^T x_i + b) - 1 \\right]$$\n",
        "\n",
        "Here:\n",
        "- $\\alpha_i$: Lagrange multipliers\n",
        "\n",
        "- The solution must satisfy the Karush-Kuhn-Tucker (KKT) conditions, which are optimality conditions for constrained optimization.\n",
        "\n",
        "-\n",
        "\n",
        "**Dual Problem**\n",
        "\n",
        "Rather than solving the primal directly, we convert it to the dual problem by maximizing the Lagrangian with respect to $\\alpha$, while minimizing it with respect to $\\ w $ and $ b $:\n",
        "\n",
        "$$\\max_{\\alpha} \\sum_{i=1}^n \\alpha_i - \\frac{1}{2} \\sum_{i=1}^{n} \\sum_{j=1}^{n} \\alpha_i \\alpha_j y_i y_j (x_i^T x_j)$$\n",
        "\n",
        "Subject to:\n",
        "\n",
        "\n",
        "$$\\sum_{i=1}^n \\alpha_i y_i = 0, \\quad \\alpha_i \\geq 0$$"
      ]
    },
    {
      "cell_type": "markdown",
      "metadata": {
        "id": "aHgxRcejBQxc"
      },
      "source": [
        "## **Q5.What are Support Vectors in SVM?**"
      ]
    },
    {
      "cell_type": "markdown",
      "metadata": {
        "id": "-9djrzcwB5iB"
      },
      "source": [
        "Support Vectors are the critical data points in a Support Vector Machine (SVM) that lie closest to the decision boundary (hyperplane). They are the most influential points that determine the position and orientation of the optimal hyperplane.\n",
        "\n",
        "**Graphical Intuition:**\n",
        "\n",
        "- In a 2D example with two linearly separable classes:\n",
        "\n",
        "- The SVM tries to find the maximum-margin hyperplane (a line, in 2D) that best separates the classes.\n",
        "\n",
        "- The margin is defined by the distance to the nearest data points on either side — these are your support vectors.\n",
        "\n",
        "- Only these support vectors influence the hyperplane. Moving any non-support vector doesn't affect the hyperplane.\n",
        "\n",
        "**Mathematically:**\n",
        "\n",
        "In the dual formulation of SVM:\n",
        "\n",
        "$$f(x) = \\sum_{i=1}^{n} \\alpha_i y_i K(x_i, x) + b$$\n",
        "\n",
        "- Only points where $\\alpha_i > 0 $ are support vectors.\n",
        "- All others have  $\\alpha_i = 0 $, meaning they don’t impact the final decision boundary.\n",
        "\n",
        "\n",
        "**Why are Support Vectors Important?**\n",
        "\n",
        "**1.Efficiency:** Only a subset of the training data (support vectors) is used to make predictions.\n",
        "\n",
        "**2. Robustness:** They represent the most difficult-to-classify examples, making the model more resilient.\n",
        "\n",
        "**3.Sparsity:** Because only a few $𝛼_i$ are non-zero, SVM solutions are typically sparse (computationally efficient).\n",
        "\n"
      ]
    },
    {
      "cell_type": "markdown",
      "metadata": {
        "id": "ofxyIwKdEFq1"
      },
      "source": [
        "## **Q6.What is a Support Vector Classifier (SVC)?**"
      ]
    },
    {
      "cell_type": "markdown",
      "metadata": {
        "id": "lcPS5SY3Hf8C"
      },
      "source": [
        "A Support Vector Classifier (SVC) is a type of Support Vector Machine (SVM) model specifically used for classification tasks. It constructs an optimal decision boundary (called a hyperplane) to separate classes of data with the maximum margin.\n",
        "\n",
        "**Core Idea:**\n",
        "\n",
        "**Hard Margin SVC (linearly separable data):**\n",
        "\n",
        "\n",
        "$$\\min_{w, b} \\ \\frac{1}{2} \\|w\\|^2$$\n",
        "\n",
        "Subject to:\n",
        "\n",
        "\n",
        "$$y_i (w^T x_i + b) \\geq 1 \\quad \\forall i$$\n",
        "\n",
        "**Soft Margin SVC (Non-Separable Data)**\n",
        "\n",
        "$$\\min_{w, b, \\xi} \\ \\frac{1}{2} \\|w\\|^2 + C \\sum_{i=1}^n \\xi_i$$\n",
        "\n",
        "Subject to:\n",
        "\n",
        "\n",
        "$$y_i (w^T x_i + b) \\geq 1 - \\xi_i, \\quad \\xi_i \\geq 0$$\n",
        "\n",
        "Where:\n",
        "\n",
        "- $\\xi_i $: Slack variables that allow margin violations  \n",
        "- $ C $: Penalty parameter that balances margin size and classification error\n"
      ]
    },
    {
      "cell_type": "markdown",
      "metadata": {
        "id": "Fmnmczg0I4jq"
      },
      "source": [
        "## **Q7.What is a Support Vector Regressor (SVR)?**"
      ]
    },
    {
      "cell_type": "markdown",
      "metadata": {
        "id": "kcRdJ2g-JMO6"
      },
      "source": [
        "Support Vector Regression (SVR) is the regression counterpart of Support Vector Machines (SVM). Instead of finding a hyperplane that separates classes, SVR tries to fit the best line (or curve) that predicts continuous values, with a focus on a margin of tolerance.\n",
        "\n",
        "\n",
        "**Objective:**\n",
        "\n",
        "SVR attempts to find a function $f(x) $ that has at most $\\varepsilon $ deviation from the actual targets $y_i$, for all training data, and is as flat as possible.\n",
        "\n",
        "**Optimization Problem (ε-insensitive loss):**\n",
        "\n",
        "$$\\min_{w, b, \\xi_i, \\xi_i^*} \\ \\frac{1}{2} \\|w\\|^2 + C \\sum_{i=1}^n (\\xi_i + \\xi_i^*)$$\n",
        "\n",
        "Subject to:\n",
        "\n",
        "$$y_i - (w^T x_i + b) \\leq \\varepsilon + \\xi_i\n",
        "$$\n",
        "$$(w^T x_i + b) - y_i \\leq \\varepsilon + \\xi_i^*$$\n",
        "$$\\xi_i, \\xi_i^* \\geq 0$$\n",
        "\n",
        "\n",
        "**Key Terms:**\n",
        "\n",
        "- $\\varepsilon $: Defines the margin of tolerance (tube) around the predicted values.\n",
        "- $\\xi_i, \\xi_i^* $: Slack variables to allow deviations outside the margin.\n",
        "- $C$: Regularization parameter controlling the trade-off between model complexity and tolerance to deviations.\n",
        "\n"
      ]
    },
    {
      "cell_type": "markdown",
      "metadata": {
        "id": "HOnkLs1SKgI_"
      },
      "source": [
        "## **Q8.What is the Kernel Trick in SVM?**\n"
      ]
    },
    {
      "cell_type": "markdown",
      "metadata": {
        "id": "B1z80PS5MEOL"
      },
      "source": [
        "In Support Vector Machines (SVM), the **Kernel Trick** allows us to perform non-linear classification by implicitly mapping input features into a higher-dimensional space, without explicitly computing the transformation.\n",
        "\n",
        "\n",
        "**Kernel Trick in Action:**\n",
        "\n",
        "- If $\\phi(x) $ is a transformation function that maps input data into a higher-dimensional space, then:\n",
        "\n",
        "\n",
        "$$K(x_i, x_j) = \\langle \\phi(x_i), \\phi(x_j) \\rangle$$\n",
        "\n",
        "- This avoids the need to compute $\\phi(x)$ explicitly, saving computational cost.\n"
      ]
    },
    {
      "cell_type": "markdown",
      "metadata": {
        "id": "0SpTqoZkNBv9"
      },
      "source": [
        "**Common Kernel Functions:**\n",
        "\n",
        "| Kernel Type    | Formula                            |   |         |   |    |\n",
        "| -------------- | ---------------------------------- | - | ------- | - | -- |\n",
        "| Linear         | K(xᵢ, xⱼ) = xᵢᵀ · xⱼ               |   |         |   |    |\n",
        "| Polynomial     | K(xᵢ, xⱼ) = (γ · xᵢᵀ · xⱼ + r)ᵈ    |   |         |   |    |\n",
        "| RBF (Gaussian) | K(xᵢ, xⱼ) = exp(–γ · xᵢ – xⱼ²) |\n",
        "|\n",
        "Sigmoid        | K(xᵢ, xⱼ) = tanh(γ · xᵢᵀ · xⱼ + r) |   |         |   |    |\n"
      ]
    },
    {
      "cell_type": "markdown",
      "metadata": {
        "id": "p1U3UGu8NMAS"
      },
      "source": [
        "## **Q9.Compare Linear Kernel, Polynomial Kernel, and RBF Kernel?**"
      ]
    },
    {
      "cell_type": "markdown",
      "metadata": {
        "id": "6wpq-wvwOXTl"
      },
      "source": [
        "| Aspect                        | Linear Kernel                                                          | Polynomial Kernel                                                    | RBF (Radial Basis Function) Kernel                                 |\n",
        "| ----------------------------- | ---------------------------------------------------------------------- | -------------------------------------------------------------------- | ------------------------------------------------------------------ |\n",
        "| **Formula**                   | $K(x_i, x_j) = x_i^T x_j$                                              | $K(x_i, x_j) = (\\gamma x_i^T x_j + r)^d$                             | $K(x_i, x_j) = \\exp(-\\gamma \\|x_i - x_j\\|^2)$                      |\n",
        "| **Type of decision boundary** | Linear hyperplane                                                      | Non-linear, polynomial-shaped                                        | Highly non-linear, flexible                                        |\n",
        "| **Feature mapping**           | No explicit mapping, works in original feature space                   | Maps data into polynomial feature space of degree $d$                | Maps data into infinite-dimensional space implicitly               |\n",
        "| **Hyperparameters**           | None or just regularization $C$                                        | Degree $d$, coefficient $r$, $\\gamma$, and $C$                       | $\\gamma$ and $C$                                                   |\n",
        "| **When to use**               | Data is linearly separable or high-dimensional sparse data (like text) | When relationship is polynomial or curved but with global structure  | When complex boundaries are needed, data is not linearly separable |\n",
        "| **Advantages**                | Fast, simple, less prone to overfitting                                | Can model curved boundaries, more flexible than linear               | Very flexible, handles complex patterns well                       |\n",
        "| **Disadvantages**             | Cannot capture non-linear patterns                                     | Computationally expensive with large degree $d$, risk of overfitting | Computationally expensive, sensitive to parameter tuning           |\n",
        "| **Computational cost**        | Low                                                                    | Moderate to high, increases with degree $d$                          | High, depends on number of support vectors                         |\n"
      ]
    },
    {
      "cell_type": "markdown",
      "metadata": {
        "id": "XNgjknwGOgaI"
      },
      "source": [
        "## **Q10.What is the effect of the C parameter in SVM?**"
      ]
    },
    {
      "cell_type": "markdown",
      "metadata": {
        "id": "i9HYsOZvO08a"
      },
      "source": [
        "**Effect of C in SVM:**\n",
        "\n",
        "**High C value (Large penalty):**\n",
        "\n",
        "* The SVM tries to classify all training points correctly by penalizing misclassification heavily.\n",
        "\n",
        "* This leads to a smaller margin because the model focuses on minimizing classification errors on the training set.\n",
        "\n",
        "* Risk: Overfitting — the model fits training data very closely and may not generalize well.\n",
        "\n",
        "**Low C value (Small penalty):**\n",
        "\n",
        "* The SVM allows some misclassifications (slack variables) to achieve a larger margin.\n",
        "\n",
        "* The model is more tolerant to errors on training data to gain better generalization on unseen data.\n",
        "\n",
        "* Risk: Underfitting if C is too small, as the margin might be too wide and the model too simple.\n",
        "\n"
      ]
    },
    {
      "cell_type": "markdown",
      "metadata": {
        "id": "6PluznNZPHY2"
      },
      "source": [
        "**Intuition:**\n",
        "\n",
        "- C controls the flexibility of the decision boundary:\n",
        "\n",
        "| C Value | Effect on Model                                                  |\n",
        "| ------- | ---------------------------------------------------------------- |\n",
        "| Large   | Strict, tries to fit all data points correctly, complex boundary |\n",
        "| Small   | More flexible, allows some errors, smoother and simpler boundary |\n",
        "\n"
      ]
    },
    {
      "cell_type": "markdown",
      "metadata": {
        "id": "PRCmfTUKPRCs"
      },
      "source": [
        "## **Q11.What is the role of the Gamma parameter in RBF Kernel SVM?**"
      ]
    },
    {
      "cell_type": "markdown",
      "metadata": {
        "id": "bXUIaquePYMe"
      },
      "source": [
        "The Gamma (γ) parameter in an RBF (Radial Basis Function) kernel SVM controls the influence of a single training example on the decision boundary.\n",
        "\n",
        "- **Defines the reach of a single training point's influence:**\n",
        "\n",
        "- **Small γ (low value):**\n",
        "\n",
        "Each training point's influence is far-reaching — points far away still affect the decision boundary.\n",
        "This creates a smooth, simple decision boundary that may underfit if γ is too low.\n",
        "\n",
        "- **Large γ (high value):**\n",
        "\n",
        "Each point's influence is limited to a small area around itself.\n",
        "This allows the decision boundary to be very complex and wiggly, fitting closely around training points, which can cause overfitting.\n",
        "\n"
      ]
    },
    {
      "cell_type": "markdown",
      "metadata": {
        "id": "wONupZF6QluE"
      },
      "source": [
        "**Intuition:**\n",
        "\n",
        "| Gamma (γ) value | Effect on Decision Boundary                        |\n",
        "| --------------- | -------------------------------------------------- |\n",
        "| Small           | Smooth, less complex boundary; more generalization |\n",
        "| Large           | Complex, tightly fit boundary; risk of overfitting |\n"
      ]
    },
    {
      "cell_type": "markdown",
      "metadata": {
        "id": "sJijhHBFQqeB"
      },
      "source": [
        "## **Q12. What is the Naïve Bayes classifier, and why is it called \"Naïve\"?**"
      ]
    },
    {
      "cell_type": "markdown",
      "metadata": {
        "id": "_8VczUQIQzUa"
      },
      "source": [
        "Naïve Bayes classifier is a simple probabilistic machine learning model used for classification tasks. It is based on applying Bayes’ theorem with a strong assumption that all features are independent of each other given the class label.\n",
        "\n",
        "- It calculates the probability of a data point belonging to each class using Bayes' theorem:\n",
        "\n",
        "\n",
        "$$P(C \\mid X) = \\frac{P(X \\mid C) \\times P(C)}{P(X)}$$\n",
        "\n",
        "where:\n",
        "\n",
        "- $P(C \\mid X) $ is the posterior probability of class $ C $ given features $ X $,\n",
        "- $ P(X \\mid C) $ is the likelihood of features given class,\n",
        "- $ P(C) $ is the prior probability of the class,\n",
        "- $ P(X) $ is the probability of the features.\n",
        "\n",
        "- The classifier predicts the class with the highest posterior probability."
      ]
    },
    {
      "cell_type": "markdown",
      "metadata": {
        "id": "K4Bi_P8bRhxS"
      },
      "source": [
        "**Why is it called \"Naïve\"**\n",
        "- The model assumes that all features are conditionally independent given the class — which is rarely true in real-world data.\n",
        "\n",
        "- This simplifying assumption is called “naïve” because it ignores possible correlations among features.\n",
        "\n",
        "- Despite this “naïve” assumption, it often performs surprisingly well in many applications like spam filtering, text classification, and medical diagnosis."
      ]
    },
    {
      "cell_type": "markdown",
      "metadata": {
        "id": "0jL3Mn9cUBFb"
      },
      "source": [
        "## **Q13.What is Bayes’ Theorem?**"
      ]
    },
    {
      "cell_type": "markdown",
      "metadata": {
        "id": "6ixNeiJLUQKD"
      },
      "source": [
        "Bayes’ Theorem is a fundamental rule in probability theory that describes how to update the probability of a hypothesis based on new evidence.\n",
        "\n",
        "The Formula:\n",
        "\n",
        "\n",
        "$$P(A|B) = \\frac{P(B|A) \\times P(A)}{P(B)}$$\n",
        "\n",
        "where:\n",
        "\n",
        "- $𝑃\n",
        "(\n",
        "𝐴\n",
        "∣\n",
        "𝐵\n",
        ")$: **Posterior probability** — the probability of event\n",
        "$𝐴$ occurring given that\n",
        "$𝐵$ has occurred.\n",
        "\n",
        "- $𝑃\n",
        "(\n",
        "𝐵\n",
        "∣\n",
        "𝐴\n",
        ")$: **Likelihood** — the probability of observing event\n",
        "$𝐵$ given that\n",
        "$𝐴$ is true.\n",
        "\n",
        "\n",
        "- $𝑃\n",
        "(\n",
        "𝐴\n",
        ")$: **Prior probability** — the initial probability of event\n",
        "$𝐴$ before observing\n",
        "$𝐵$.\n",
        "\n",
        "\n",
        "- $𝑃\n",
        "(\n",
        "𝐵\n",
        ")$: **Marginal probability** — the total probability of event $𝐵$ occurring.\n",
        "\n",
        "**Example:**\n",
        "\n",
        "If $𝐴$ = \"It will rain today\" and $𝐵$ = \"The sky is cloudy\", Bayes’ theorem helps you calculate the probability it will rain given the sky is cloudy."
      ]
    },
    {
      "cell_type": "markdown",
      "metadata": {
        "id": "F5FK8W7vWDOz"
      },
      "source": [
        "## **Q14.Explain the differences between Gaussian Naïve Bayes, Multinomial Naïve Bayes, and Bernoulli Naïve Bayes.**"
      ]
    },
    {
      "cell_type": "markdown",
      "metadata": {
        "id": "kFYDsg10XAby"
      },
      "source": [
        "| Naïve Bayes Type            | Use Case                             | Feature Type          | Assumption on Features                |\n",
        "| --------------------------- | ------------------------------------ | --------------------- | ------------------------------------- |\n",
        "| **Gaussian Naïve Bayes**    | Continuous data (e.g., IRIS dataset) | Real-valued features  | Features follow a normal distribution |\n",
        "| **Multinomial Naïve Bayes** | Discrete counts (e.g., word counts)  | Count-based features  | Features represent frequency/count    |\n",
        "| **Bernoulli Naïve Bayes**   | Binary/Boolean features (e.g., spam) | Binary features (0/1) | Features are present/absent           |\n"
      ]
    },
    {
      "cell_type": "markdown",
      "metadata": {
        "id": "DKxpiLB5XXSS"
      },
      "source": [
        "**Gaussian Naïve Bayes**\n",
        "\n",
        "* **Used for**: Real-valued features like heights, weights, or pixel intensities.\n",
        "\n",
        "* **Formula:**\n",
        "\n",
        "\n",
        "$$P(x_i \\mid C_k) = \\frac{1}{\\sqrt{2\\pi\\sigma_k^2}} \\exp\\left( -\\frac{(x_i - \\mu_k)^2}{2\\sigma_k^2} \\right)$$\n",
        "\n",
        "**Multinomial Naïve Bayes**\n",
        "- **Used for:** Count data, especially in text classification (e.g., how often each word appears).\n",
        "\n",
        "- **Assumes:** Features represent discrete frequencies (non-negative integers).\n",
        "\n",
        "- **Best for:** Document classification, spam detection, etc.\n",
        "\n",
        "- **Note:** Doesn't work well with negative or continuous values.\n",
        "\n",
        "**Bernoulli Naïve Bayes**\n",
        "- **Used for:** Binary/Boolean data (e.g., presence or absence of a feature).\n",
        "\n",
        "- **Assumes:** Features are binary (e.g., word present: 1 or absent: 0).\n",
        "\n",
        "- **Best for:** Simple spam filters, sentiment analysis (binary features).\n",
        "\n",
        "- **Important:** Penalizes words that don’t appear in a document."
      ]
    },
    {
      "cell_type": "markdown",
      "metadata": {
        "id": "OSiuhDJ5YqdG"
      },
      "source": [
        "## **Q15.When should you use Gaussian Naïve Bayes over other variants?**"
      ]
    },
    {
      "cell_type": "markdown",
      "metadata": {
        "id": "qF6NcUxdY4Ub"
      },
      "source": [
        "Use Gaussian Naïve Bayes when:\n",
        "\n",
        "| Scenario                                             | Explanation                                                                             |\n",
        "| ---------------------------------------------------- | --------------------------------------------------------------------------------------- |\n",
        "| **Continuous features**                           | The input data consists of real-valued numbers (e.g., height, weight, sensor readings). |\n",
        "| **Features look normally distributed**            | Histograms or statistical tests show that features follow a bell-shaped curve.          |\n",
        "|  **Examples**                                      | Medical data (e.g., blood pressure), Iris dataset, or other scientific measurements.    |\n",
        "| **Need fast, scalable classification**            | Gaussian NB is computationally efficient, even with many features.                      |\n",
        "| **Independence assumption holds reasonably well** | Features are not heavily correlated or dependent on one another.                        |\n"
      ]
    },
    {
      "cell_type": "markdown",
      "metadata": {
        "id": "zhU7dipKZLVk"
      },
      "source": [
        "**Avoid Gaussian Naïve Bayes when:**\n",
        "\n",
        "* You’re dealing with text data (use Multinomial NB instead).\n",
        "\n",
        "* Features are binary (use Bernoulli NB).\n",
        "\n",
        "* Features have categorical values without ordering (use other models like Decision Trees or Categorical NB).\n",
        "\n",
        "**Example Use Case:**\n",
        "\n",
        "Predicting whether a patient has a disease based on continuous inputs like blood sugar, BMI, age, etc., where each feature is approximately normally distributed."
      ]
    },
    {
      "cell_type": "markdown",
      "metadata": {
        "id": "zCLdqfhAZW2O"
      },
      "source": [
        "## **Q16.What are the key assumptions made by Naïve Bayes?**"
      ]
    },
    {
      "cell_type": "markdown",
      "metadata": {
        "id": "9E3iuWxIZgSz"
      },
      "source": [
        "| Assumption                                   | Description                                                                                                                                                                                                                                                     |\n",
        "| -------------------------------------------- | --------------------------------------------------------------------------------------------------------------------------------------------------------------------------------------------------------------------------------------------------------------- |\n",
        "| **1. Feature Independence**                  | All features are **conditionally independent** given the class label.That is, the presence or absence of a feature does not affect any other feature's presence, **given the class**.                                                                          |\n",
        "| **2. Equal Importance of Features**          | Each feature contributes **equally and independently** to the probability of a class — no feature interactions are considered.                                                                                                                                  |\n",
        "| **3. Correct Model of Feature Distribution** | Depends on the variant:<br> - **Gaussian NB** assumes features are **normally distributed**.<br> - **Multinomial NB** assumes features are **counts** (e.g., word frequency).<br> - **Bernoulli NB** assumes **binary** features (e.g., word presence/absence). |\n",
        "| **4. Class Prior is Known or Estimable**     | The model assumes prior probabilities of each class (i.e., $P(C)$) are either known or can be estimated from data.   |\n"
      ]
    },
    {
      "cell_type": "markdown",
      "metadata": {
        "id": "3ND8AdZ6ZjdZ"
      },
      "source": [
        "## **Q17.What are the advantages and disadvantages of Naïve Bayes?**"
      ]
    },
    {
      "cell_type": "markdown",
      "metadata": {
        "id": "vzQAQvKraRFM"
      },
      "source": [
        "**Advantages of Naïve Bayes:**\n",
        "\n",
        "- **Simple and Fast:** It's easy to implement and works very efficiently on large datasets.\n",
        "\n",
        "- **Requires Less Training Data:** Performs well even with relatively small amounts of training data.\n",
        "\n",
        "- **Effective with High-Dimensional Data:** Great for problems like text classification where the number of features (words) is very large.\n",
        "\n",
        "- **Works Well with Categorical Inputs:** Especially useful when dealing with discrete features like word counts or presence/absence.\n",
        "\n",
        "- **Performs Well in Many Real-World Cases:** Despite its \"naïve\" assumptions, it often gives surprisingly good results.\n",
        "\n",
        "\n",
        "**Disadvantages of Naïve Bayes:**\n",
        "\n",
        "- **Strong Independence Assumption:** Assumes that features are conditionally independent given the class, which is rarely true in real data.\n",
        "\n",
        "- **Zero Probability Problem:** If a feature value wasn’t seen during training, it may assign zero probability to that class — requiring smoothing techniques like Laplace smoothing.\n",
        "\n",
        "- **Limited Expressiveness:** Cannot capture complex relationships or interactions between features.\n",
        "\n",
        "- **Sensitive to Data Distribution:** Gaussian Naïve Bayes assumes normal distribution, which might not fit real-world continuous data well.\n",
        "\n",
        "- **Not Ideal for Correlated Features:** When features are highly correlated, performance can degrade.\n"
      ]
    },
    {
      "cell_type": "markdown",
      "metadata": {
        "id": "pT5o74TicNWV"
      },
      "source": [
        "## **Q18.Why is Naïve Bayes a good choice for text classification?**"
      ]
    },
    {
      "cell_type": "markdown",
      "metadata": {
        "id": "HRBZVCS2cT_R"
      },
      "source": [
        " **Why Naïve Bayes Works Well for Text:**\n",
        "\n",
        "- **High-Dimensional Feature Space:**Text data (like emails or reviews) gets converted into a huge number of features (e.g., each word). Naïve Bayes handles this high dimensionality efficiently, especially using bag-of-words or TF-IDF representations.\n",
        "\n",
        "- **Feature Independence Works Well Enough:**\n",
        "Although words in natural language are not truly independent, the conditional independence assumption still leads to good performance in practice.\n",
        "\n",
        "- **Fast Training and Prediction:**\n",
        "Naïve Bayes is computationally efficient — ideal for training on large text datasets and making fast predictions.\n",
        "\n",
        "- **Works Well Even with Small Datasets:**\n",
        "Because it estimates probabilities rather than optimizing weights, it requires less data to generalize well.\n",
        "\n",
        "- **Robust to Irrelevant Features:**\n",
        "Many words in text data don’t influence classification. Naïve Bayes tolerates noise and irrelevant features quite well.\n",
        "\n",
        "- **Effective for Binary or Frequency-based Features:**\n",
        "The Multinomial and Bernoulli versions of Naïve Bayes are designed for word counts or word presence, which matches how we process text.\n",
        "\n",
        "- **Good Baseline Model:**\n",
        "Even if more complex models are used later, Naïve Bayes often serves as a strong baseline due to its simplicity and solid performance.\n",
        "\n",
        "**Common Use Cases:**\n",
        "- **Spam detection**\n",
        "- **Sentiment analysis**\n",
        "- **News categorization**\n",
        "- **Language detection**"
      ]
    },
    {
      "cell_type": "markdown",
      "metadata": {
        "id": "k4a6pBUhequ8"
      },
      "source": [
        "## **Q19.Compare SVM and Naïve Bayes for classification tasks?**"
      ]
    },
    {
      "cell_type": "markdown",
      "metadata": {
        "id": "Z9o4ecjgfuck"
      },
      "source": [
        "**1. Underlying Principle**\n",
        "\n",
        "- **SVM:**\n",
        "A discriminative classifier. It finds the optimal decision boundary (hyperplane) that maximizes the margin between classes.\n",
        "\n",
        "- **Naïve Bayes:**\n",
        "A generative classifier. It models the joint probability of features and classes using Bayes’ Theorem, assuming feature independence.\n",
        "\n",
        "**2.Performance**\n",
        "\n",
        "- **SVM:**\n",
        "Generally more accurate on complex datasets with non-linear decision boundaries or correlated features.\n",
        "\n",
        "- **Naïve Bayes:**\n",
        "Faster and still performs well, especially on text classification, but may struggle when features are not independent.\n",
        "\n",
        "**3. Assumptions**\n",
        "- **SVM:**\n",
        "Makes no strong assumptions about the data distribution. Can handle correlated features.\n",
        "\n",
        "- **Naïve Bayes:**\n",
        "Assumes conditional independence of features — often not true in practice but can still work well.\n",
        "\n",
        "**4. Speed and Efficiency**\n",
        "\n",
        "- **SVM:**\n",
        "Slower to train, especially with large datasets or high-dimensional features.\n",
        "\n",
        "- **Naïve Bayes:**\n",
        "Very fast to train and predict, even on large datasets.\n",
        "\n",
        "**5. Data Requirements**\n",
        "\n",
        "- **SVM:**\n",
        "Needs carefully scaled features and may require more data for tuning.\n",
        "\n",
        "- **Naïve Bayes:**\n",
        "Works well with small datasets, especially if the independence assumption holds reasonably well.\n",
        "\n",
        "**6. Handling of Noisy Data**\n",
        "\n",
        "- **SVM:**\n",
        "Sensitive to outliers, but soft margin SVMs help mitigate this.\n",
        "\n",
        "- **Naïve Bayes:**\n",
        "Robust to noise, especially in high-dimensional spaces like text data.\n",
        "\n",
        "**7. Interpretability**\n",
        "\n",
        "- **SVM:**\n",
        "Decision function is harder to interpret.\n",
        "\n",
        "- **Naïve Bayes:**\n",
        "Easier to understand, since it's based on probabilities and conditional independence."
      ]
    },
    {
      "cell_type": "markdown",
      "metadata": {
        "id": "e0pzSQMWkbVH"
      },
      "source": [
        "## **Q20.How does Laplace Smoothing help in Naïve Bayes?**\n"
      ]
    },
    {
      "cell_type": "markdown",
      "metadata": {
        "id": "PoPlIn75k4_Z"
      },
      "source": [
        "Laplace Smoothing (also called Additive Smoothing) is a technique used in Naïve Bayes to handle the problem of zero probability for unseen features during classification.\n",
        "\n",
        "The Problem:\n",
        "\n",
        "- In Naïve Bayes, probabilities like  $P(x_i \\mid C_k)$ are estimated from the training data.\n",
        "- If a feature (like a word in text classification) **never appears** in class $C_k $, then:  \n",
        "$$P(x_i \\mid C_k) = 0$$\n",
        "\n",
        "- This becomes a problem because Naïve Bayes **multiplies all feature probabilities**.  \n",
        "A single zero value will make the entire product zero, resulting in:  \n",
        "\n",
        "$$P(C_k \\mid x) = 0$$  \n",
        "—even if other features **strongly suggest** that \\( C_k \\) is the correct class.\n",
        "\n",
        "\n",
        "**The Solution: Laplace Smoothing**\n",
        "\n",
        "We add 1 (or a small constant) to the count of each feature in every class. This ensures no probability is zero.\n",
        "\n",
        "**For categorical features:**\n",
        "\n",
        "\n",
        "$$P(x_i \\mid C_k) = \\frac{\\text{count}(x_i \\text{ in } C_k) + 1}{\\text{total count of all features in } C_k + V}$$\n",
        "\n",
        "where:\n",
        "- 𝑉 is the number of possible feature values (e.g., vocabulary size in text classification).\n",
        "\n",
        "- The \"+1\" ensures even unseen features have a small, non-zero probability.\n",
        "\n"
      ]
    },
    {
      "cell_type": "markdown",
      "metadata": {
        "id": "YAYPY-jeqEss"
      },
      "source": [
        "# ***Practical Question***"
      ]
    },
    {
      "cell_type": "markdown",
      "metadata": {
        "id": "SOlEYITZqKfF"
      },
      "source": [
        "## **Q21.Write a Python program to train an SVM Classifier on the Iris dataset and evaluate accuracy.**"
      ]
    },
    {
      "cell_type": "code",
      "execution_count": 9,
      "metadata": {
        "id": "hq0ZEp7LzTQ_",
        "colab": {
          "base_uri": "https://localhost:8080/"
        },
        "outputId": "c2a0d4ae-21a7-4df6-94a6-afb26cfbe615"
      },
      "outputs": [
        {
          "output_type": "stream",
          "name": "stdout",
          "text": [
            "Accuracy of the SVM classifier on the Iris dataset: 96.67%\n"
          ]
        }
      ],
      "source": [
        "from sklearn import datasets\n",
        "from sklearn.model_selection import train_test_split\n",
        "from sklearn.preprocessing import StandardScaler\n",
        "from sklearn.svm import SVC\n",
        "from sklearn.metrics import accuracy_score\n",
        "\n",
        "# Load the Iris dataset\n",
        "iris = datasets.load_iris()\n",
        "X = iris.data\n",
        "y = iris.target\n",
        "\n",
        "#split into training and testing sets (80% train, 20% test)\n",
        "X_train, X_test, y_train, y_test = train_test_split(X, y, test_size=0.2, random_state=42)\n",
        "\n",
        "#feature scaling (important for SVM)\n",
        "scaler = StandardScaler()\n",
        "X_train = scaler.fit_transform(X_train)\n",
        "X_test = scaler.transform(X_test)\n",
        "\n",
        "#create and train the SVM classifier\n",
        "svm_clf = SVC(kernel='linear')  # You can try 'rbf', 'poly', etc.\n",
        "svm_clf.fit(X_train, y_train)\n",
        "\n",
        "#make predictions\n",
        "y_pred = svm_clf.predict(X_test)\n",
        "\n",
        "#evaluate accuracy\n",
        "accuracy = accuracy_score(y_test, y_pred)\n",
        "print(f\"Accuracy of the SVM classifier on the Iris dataset: {accuracy * 100:.2f}%\")\n"
      ]
    },
    {
      "cell_type": "markdown",
      "metadata": {
        "id": "emlA_M-yhZZV"
      },
      "source": [
        "## **Q22.Write a Python program to train two SVM classifiers with Linear and RBF kernels on the Wine dataset, then compare their accuracies:**"
      ]
    },
    {
      "cell_type": "code",
      "execution_count": 10,
      "metadata": {
        "id": "ER3qRsDLhnZf",
        "colab": {
          "base_uri": "https://localhost:8080/"
        },
        "outputId": "27d51aa4-6757-4a69-f080-19eefed50e1f"
      },
      "outputs": [
        {
          "output_type": "stream",
          "name": "stdout",
          "text": [
            "Accuracy Linear Kernel: 94.44%\n",
            "Accuracy RBF Kernel: 97.22%\n",
            "RBF kernel performed better.\n"
          ]
        }
      ],
      "source": [
        "from sklearn import datasets\n",
        "from sklearn.model_selection import train_test_split\n",
        "from sklearn.preprocessing import StandardScaler\n",
        "from sklearn.svm import SVC\n",
        "from sklearn.metrics import accuracy_score\n",
        "\n",
        "#load the wine dataset\n",
        "wine = datasets.load_wine()\n",
        "X = wine.data\n",
        "y =wine.target\n",
        "\n",
        "#split into training and testing sets\n",
        "X_train, X_test, y_train, y_test = train_test_split(X, y, test_size=0.2, random_state=1)\n",
        "\n",
        "#feature scaling\n",
        "scaler = StandardScaler()\n",
        "X_train = scaler.fit_transform(X_train)\n",
        "X_test = scaler.transform(X_test)\n",
        "\n",
        "#train SVM with linear kernel\n",
        "svm_linear = SVC (kernel='linear')\n",
        "svm_linear.fit(X_train, y_train)\n",
        "y_pred = svm_linear.predict(X_test)\n",
        "accuracy_linear = accuracy_score(y_test, y_pred)\n",
        "\n",
        "\n",
        "\n",
        "#train SVM with RBF kernel\n",
        "svm_rbf = SVC(kernel='rbf')\n",
        "svm_rbf.fit(X_train, y_train)\n",
        "y_pred = svm_rbf.predict(X_test)\n",
        "accuracy_rbf = accuracy_score(y_test, y_pred)\n",
        "\n",
        "#display accuraties\n",
        "print(f\"Accuracy Linear Kernel: {accuracy_linear * 100:.2f}%\")\n",
        "print(f\"Accuracy RBF Kernel: {accuracy_rbf * 100:.2f}%\")\n",
        "\n",
        "#Comparison\n",
        "if accuracy_linear > accuracy_rbf:\n",
        "  print(\"Linear kernel performed better.\")\n",
        "elif accuracy_rbf > accuracy_linear:\n",
        "  print(\"RBF kernel performed better.\")\n",
        "else:\n",
        "  print(\"Both kernels performed equally well.\")"
      ]
    },
    {
      "cell_type": "markdown",
      "metadata": {
        "id": "ebZTs1OEmrps"
      },
      "source": [
        "## **Q23. Write a Python program to train an SVM Regressor (SVR) on a housing dataset and evaluate it using Mean Squared Error (MSE).**"
      ]
    },
    {
      "cell_type": "code",
      "execution_count": 11,
      "metadata": {
        "id": "paVC7_v6oHWD",
        "colab": {
          "base_uri": "https://localhost:8080/"
        },
        "outputId": "ab77252a-f4c9-4588-85d4-f341c3c6d20f"
      },
      "outputs": [
        {
          "output_type": "stream",
          "name": "stdout",
          "text": [
            "Mean Squared Error (MSE): 0.3501626675763772\n"
          ]
        }
      ],
      "source": [
        "from sklearn.datasets import fetch_california_housing\n",
        "from sklearn.model_selection import train_test_split\n",
        "from sklearn.preprocessing import StandardScaler\n",
        "from sklearn.svm import SVR\n",
        "from sklearn.metrics import mean_squared_error\n",
        "\n",
        "\n",
        "housing = fetch_california_housing()\n",
        "X = housing.data\n",
        "y = housing.target\n",
        "\n",
        "#split the data into training and test sets\n",
        "X_train, X_test, y_train, y_test = train_test_split(X, y, test_size=0.2, random_state=1)\n",
        "\n",
        "#feature scaling\n",
        "scaler  =StandardScaler()\n",
        "X_train_scaled = scaler.fit_transform(X_train)\n",
        "X_test_scaled = scaler.transform(X_test)\n",
        "\n",
        "#Train an SVR model with RBF kernel\n",
        "svr_model = SVR(kernel='rbf')\n",
        "svr_model.fit(X_train_scaled, y_train)\n",
        "\n",
        "\n",
        "#predict on the test set\n",
        "y_pred = svr_model.predict(X_test_scaled)\n",
        "\n",
        "#evaluate the model using MSE\n",
        "mse = mean_squared_error(y_test, y_pred)\n",
        "print(f\"Mean Squared Error (MSE): {mse}\")"
      ]
    },
    {
      "cell_type": "markdown",
      "metadata": {
        "id": "tGbbiQ5kp9VH"
      },
      "source": [
        "## **Q24.Write a Python program to train an SVM Classifier with a Polynomial Kernel and visualize the decision boundary.**"
      ]
    },
    {
      "cell_type": "code",
      "execution_count": 12,
      "metadata": {
        "id": "XQBzMLvjqI__",
        "colab": {
          "base_uri": "https://localhost:8080/",
          "height": 0
        },
        "outputId": "7f01f018-c039-41d8-e698-821e23cc2ff7"
      },
      "outputs": [
        {
          "output_type": "display_data",
          "data": {
            "text/plain": [
              "<Figure size 640x480 with 1 Axes>"
            ],
            "image/png": "[encoded data removed]"
          },
          "metadata": {}
        }
      ],
      "source": [
        "import numpy as np\n",
        "import matplotlib.pyplot as plt\n",
        "from sklearn.datasets import make_classification\n",
        "from sklearn.svm import SVC\n",
        "from sklearn.preprocessing import StandardScaler\n",
        "\n",
        "#Generate a synthetic 2d classification dataset\n",
        "X, y = make_classification(n_samples=100, n_features=2, n_informative=2, n_redundant=0,\n",
        "                           n_clusters_per_class=1, random_state=42)\n",
        "\n",
        "#standardize the features\n",
        "scaler = StandardScaler()\n",
        "X = scaler.fit_transform(X)\n",
        "\n",
        "#train on SVM classifier with a polynomial kernel\n",
        "svm  = SVC(kernel='poly', degree=3, C=1.0)\n",
        "svm.fit(X,y)\n",
        "\n",
        "#create a mesh to plot decision boundaries\n",
        "x_min, x_max = X[:,0].min() - 1, X[:,0].max() +1\n",
        "y_min, y_max = X[:,1].min() - 1, X[:,1].max() +1\n",
        "xx, yy = np.meshgrid(np.linspace(x_min, x_max, 500),\n",
        "                     np.linspace(y_min, y_max, 500)\n",
        "                     )\n",
        "Z = svm.predict(np.c_[xx.ravel(), yy.ravel()])\n",
        "Z = Z.reshape(xx.shape)\n",
        "\n",
        "#plot the decision boundary and data points\n",
        "plt.contourf(xx, yy, Z, alpha=0.3, cmap=plt.cm.coolwarm)\n",
        "plt.scatter(X[:,0], X[:,1], c=y, cmap=plt.cm.coolwarm, edgecolors='k')\n",
        "plt.xlabel('Feature 1')\n",
        "plt.ylabel('Feature 2')\n",
        "plt.title('SVM Decision Boundary')\n",
        "plt.show()"
      ]
    },
    {
      "cell_type": "markdown",
      "metadata": {
        "id": "9QEsRKJJxUiN"
      },
      "source": [
        "## **Q25.Write a Python program to train a Gaussian Naïve Bayes classifier on the Breast Cancer dataset and evaluate accuracy.**"
      ]
    },
    {
      "cell_type": "code",
      "execution_count": 13,
      "metadata": {
        "id": "1dQndFWgxdHt",
        "colab": {
          "base_uri": "https://localhost:8080/"
        },
        "outputId": "3d79424b-b838-4c57-8304-faddf87388bc"
      },
      "outputs": [
        {
          "output_type": "stream",
          "name": "stdout",
          "text": [
            "Accuracy of Gaussian Naive Bayes classifier : 97.37%\n"
          ]
        }
      ],
      "source": [
        "from sklearn.datasets import load_breast_cancer\n",
        "from sklearn.model_selection import train_test_split\n",
        "from sklearn.naive_bayes import GaussianNB\n",
        "from sklearn.metrics import accuracy_score\n",
        "\n",
        "data = load_breast_cancer()\n",
        "X = data.data\n",
        "y = data.target\n",
        "\n",
        "X_train, X_test, y_train, y_test = train_test_split(X, y, test_size=0.2, random_state=42)\n",
        "\n",
        "#initialize and train the Gaussian Naive Bayes classifier\n",
        "gnb = GaussianNB()\n",
        "gnb.fit(X_train, y_train)\n",
        "\n",
        "#make predictions\n",
        "y_pred = gnb.predict(X_test)\n",
        "\n",
        "#evaluate accuracy\n",
        "accuracy = accuracy_score(y_test, y_pred)\n",
        "print(f\"Accuracy of Gaussian Naive Bayes classifier : {accuracy * 100:.2f}%\")"
      ]
    },
    {
      "cell_type": "markdown",
      "metadata": {
        "id": "cXAIvLMYy5-q"
      },
      "source": [
        "## **Q26.Write a Python program to train a Multinomial Naïve Bayes classifier for text classification using the 20 Newsgroups dataset.**"
      ]
    },
    {
      "cell_type": "code",
      "execution_count": 14,
      "metadata": {
        "id": "aMBx03wqEzqo",
        "colab": {
          "base_uri": "https://localhost:8080/"
        },
        "outputId": "c3366358-3e19-4f47-fa06-ce4c004db197"
      },
      "outputs": [
        {
          "output_type": "stream",
          "name": "stdout",
          "text": [
            "Accuracy: 91.52%\n",
            "\n",
            "Classification Report:\n",
            "                    precision    recall  f1-score   support\n",
            "\n",
            "     comp.graphics       0.92      0.93      0.92       178\n",
            "         rec.autos       0.92      0.92      0.92       221\n",
            "rec.sport.baseball       0.87      0.91      0.89       196\n",
            "           sci.med       0.96      0.90      0.93       195\n",
            "\n",
            "          accuracy                           0.92       790\n",
            "         macro avg       0.92      0.92      0.92       790\n",
            "      weighted avg       0.92      0.92      0.92       790\n",
            "\n"
          ]
        }
      ],
      "source": [
        "from sklearn.datasets import fetch_20newsgroups\n",
        "from sklearn.feature_extraction.text import CountVectorizer\n",
        "from sklearn.naive_bayes import MultinomialNB\n",
        "from sklearn.pipeline import make_pipeline\n",
        "from sklearn.model_selection import train_test_split\n",
        "from sklearn.metrics import accuracy_score, classification_report\n",
        "\n",
        "#load the 20 newsgroups (use subset for speed)\n",
        "categories = ['rec.sport.baseball', 'rec.autos', 'sci.med', 'comp.graphics']\n",
        "data = fetch_20newsgroups(subset='all', categories=categories, remove=('headers', 'footers', 'quotes'))\n",
        "\n",
        "#split into training and test sets\n",
        "X_train, X_test, y_train, y_test = train_test_split(data.data, data.target, test_size=0.2, random_state=1)\n",
        "\n",
        "#create a pipeline with Countvectorizer and MultinomialNB\n",
        "model = make_pipeline(CountVectorizer(), MultinomialNB())\n",
        "\n",
        "#train the model\n",
        "model.fit(X_train, y_train)\n",
        "\n",
        "#predict on test data\n",
        "y_pred =  model.predict(X_test)\n",
        "\n",
        "#evaluate the model\n",
        "accuracy = accuracy_score(y_test, y_pred)\n",
        "print(f'Accuracy: {accuracy * 100:.2f}%\\n')\n",
        "print('Classification Report:')\n",
        "print(classification_report(y_test, y_pred, target_names=data.target_names))"
      ]
    },
    {
      "cell_type": "markdown",
      "metadata": {
        "id": "A5zu39Vwo92J"
      },
      "source": [
        "## **Q27.Write a Python program to train an SVM Classifier with different C values and compare the decision boundaries visually.**"
      ]
    },
    {
      "cell_type": "code",
      "execution_count": 15,
      "metadata": {
        "id": "zyCctPHNQr0O",
        "colab": {
          "base_uri": "https://localhost:8080/",
          "height": 0
        },
        "outputId": "81bccfd3-e132-4b7b-d428-1ac142d1c08f"
      },
      "outputs": [
        {
          "output_type": "display_data",
          "data": {
            "text/plain": [
              "<Figure size 2000x400 with 5 Axes>"
            ],
            "image/png": "[encoded data removed]"
          },
          "metadata": {}
        }
      ],
      "source": [
        "import numpy as np\n",
        "import matplotlib.pyplot as plt\n",
        "from sklearn.datasets import make_classification\n",
        "from sklearn.svm import SVC\n",
        "from sklearn.preprocessing import StandardScaler\n",
        "\n",
        "#Generate synthetic 2D dataset\n",
        "X, y = make_classification(\n",
        "    n_samples=100, n_features=2, n_informative=2, n_redundant=0,\n",
        "    n_clusters_per_class=1, random_state=42\n",
        ")\n",
        "\n",
        "#Standardize features\n",
        "scaler = StandardScaler()\n",
        "X = scaler.fit_transform(X)\n",
        "\n",
        "#Define different C values\n",
        "C_values = [0.01, 0.1, 1, 10, 100]\n",
        "\n",
        "#Set up the plot grid\n",
        "fig, axes = plt.subplots(1, len(C_values), figsize=(20, 4))\n",
        "\n",
        "#Create mesh for decision boundary plotting\n",
        "x_min, x_max = X[:, 0].min() - 1, X[:, 0].max() + 1\n",
        "y_min, y_max = X[:, 1].min() - 1, X[:, 1].max() + 1\n",
        "xx, yy = np.meshgrid(\n",
        "    np.linspace(x_min, x_max, 300),\n",
        "    np.linspace(y_min, y_max, 300)\n",
        ")\n",
        "\n",
        "#Train and plot for each C value\n",
        "for ax, C in zip(axes, C_values):\n",
        "    svm = SVC(kernel='linear', C=C)\n",
        "    svm.fit(X, y)\n",
        "\n",
        "    Z = svm.predict(np.c_[xx.ravel(), yy.ravel()])\n",
        "    Z = Z.reshape(xx.shape)\n",
        "\n",
        "    ax.contourf(xx, yy, Z, alpha=0.3, cmap=plt.cm.coolwarm)\n",
        "    ax.scatter(X[:, 0], X[:, 1], c=y, edgecolors='k', cmap=plt.cm.coolwarm)\n",
        "    ax.set_title(f\"SVM with C={C}\")\n",
        "    ax.set_xticks([])\n",
        "    ax.set_yticks([])\n",
        "\n",
        "plt.tight_layout()\n",
        "plt.suptitle(\"Effect of Different C Values on SVM Decision Boundaries\", fontsize=16, y=1.05)\n",
        "plt.show()\n"
      ]
    },
    {
      "cell_type": "markdown",
      "metadata": {
        "id": "be-RI3Ccj9TJ"
      },
      "source": [
        "## **Q28.Write a Python program to train a Bernoulli Naïve Bayes classifier for binary classification on a dataset with binary features.**"
      ]
    },
    {
      "cell_type": "code",
      "execution_count": 16,
      "metadata": {
        "id": "bfUh0xeekGpb",
        "colab": {
          "base_uri": "https://localhost:8080/"
        },
        "outputId": "a20a276a-a476-43d7-cbab-0145c8af48e9"
      },
      "outputs": [
        {
          "output_type": "stream",
          "name": "stdout",
          "text": [
            "Accuracy: 67.00%\n",
            "Classification Report:\n",
            "              precision    recall  f1-score   support\n",
            "\n",
            "           0       0.69      0.67      0.68       104\n",
            "           1       0.65      0.67      0.66        96\n",
            "\n",
            "    accuracy                           0.67       200\n",
            "   macro avg       0.67      0.67      0.67       200\n",
            "weighted avg       0.67      0.67      0.67       200\n",
            "\n"
          ]
        }
      ],
      "source": [
        "import numpy as np\n",
        "from sklearn.datasets import make_classification\n",
        "from sklearn.preprocessing import Binarizer\n",
        "from sklearn.model_selection import train_test_split\n",
        "from sklearn.naive_bayes import BernoulliNB\n",
        "from sklearn.metrics import accuracy_score, classification_report\n",
        "\n",
        "#create a binary classification dataset\n",
        "X, y = make_classification(n_samples=1000, n_features=10, n_informative=5, n_redundant=0, n_classes=2, random_state=42\n",
        "                           )\n",
        "\n",
        "#Binarize the features (convert to 0/1)\n",
        "binarizer = Binarizer(threshold=0.0)\n",
        "X_binary = binarizer.fit_transform(X)\n",
        "\n",
        "#split into training and test sets\n",
        "X_train, X_test, y_train, y_test = train_test_split(X_binary, y, test_size=0.2, random_state=42)\n",
        "\n",
        "#train a Bernoulli Naive Bayes classifier\n",
        "bnb = BernoulliNB()\n",
        "bnb.fit(X_train, y_train)\n",
        "\n",
        "#make prediction\n",
        "y_pred = bnb.predict(X_test)\n",
        "\n",
        "#evaluate the classifier\n",
        "accuracy = accuracy_score(y_test, y_pred)\n",
        "print(f\"Accuracy: {accuracy * 100:.2f}%\")\n",
        "print(\"Classification Report:\")\n",
        "print(classification_report(y_test, y_pred))\n"
      ]
    },
    {
      "cell_type": "markdown",
      "metadata": {
        "id": "E5zTDmRMoqDV"
      },
      "source": [
        "## **Q29.Write a Python program to apply feature scaling before training an SVM model and compare results with unscaled data.**"
      ]
    },
    {
      "cell_type": "code",
      "execution_count": 17,
      "metadata": {
        "id": "Dybkwo1LuiSs",
        "colab": {
          "base_uri": "https://localhost:8080/"
        },
        "outputId": "694c30d2-5b6a-4ae5-8841-650ce75e7948"
      },
      "outputs": [
        {
          "output_type": "stream",
          "name": "stdout",
          "text": [
            "Accuracy:44.50%\n",
            "\n",
            "Classification Report:\n",
            "              precision    recall  f1-score   support\n",
            "\n",
            "           0       0.45      0.46      0.45       101\n",
            "           1       0.44      0.43      0.44        99\n",
            "\n",
            "    accuracy                           0.45       200\n",
            "   macro avg       0.44      0.44      0.44       200\n",
            "weighted avg       0.44      0.45      0.44       200\n",
            "\n"
          ]
        }
      ],
      "source": [
        "import numpy as np\n",
        "from sklearn.datasets import make_classification\n",
        "from sklearn.model_selection import train_test_split\n",
        "from sklearn.preprocessing import StandardScaler\n",
        "from sklearn.metrics import accuracy_score, classification_report\n",
        "\n",
        "#create a binary classifiation dataset\n",
        "X, y = make_classification(n_samples=1000, n_features=20, n_informative=10, n_redundant=0, n_classes=2, random_state=42)\n",
        "\n",
        "#Binarize the features (convert to 0/1)\n",
        "binarizer = Binarizer(threshold=0.0)\n",
        "X_binary = binarizer.fit_transform(X)\n",
        "\n",
        "#split into training and test sets\n",
        "X_train, X_test, y_train, y_test = train_test_split(X_binary, y, test_size=0.2, random_state=42)\n",
        "\n",
        "#train a Bernoulli Naive Bayes classifier\n",
        "bnb = BernoulliNB()\n",
        "bnb.fit(X_train, y_train)\n",
        "\n",
        "#evaluate the classifier\n",
        "accuracy = accuracy_score(y_test, y_pred)\n",
        "print(f'Accuracy:{accuracy * 100:.2f}%')\n",
        "print('\\nClassification Report:')\n",
        "print(classification_report (y_test, y_pred))"
      ]
    },
    {
      "cell_type": "markdown",
      "metadata": {
        "id": "EhgKVUT61OiH"
      },
      "source": [
        "## **Q30.Write a Python program to train a Gaussian Naïve Bayes model and compare the predictions before and after Laplace Smoothing.**"
      ]
    },
    {
      "cell_type": "code",
      "execution_count": 18,
      "metadata": {
        "id": "fniAALWk1XAL",
        "colab": {
          "base_uri": "https://localhost:8080/"
        },
        "outputId": "07f8a30a-987d-4519-c2b2-5bf73bfd3383"
      },
      "outputs": [
        {
          "output_type": "stream",
          "name": "stdout",
          "text": [
            "Sample 1:\n",
            "features: [1 0 1 0 1]\n",
            "Prediction without smoothing: 0\n",
            "Prdictions with Laplace smoothing: 0\n",
            "\n",
            "Sample 2:\n",
            "features: [0 1 0 1 1]\n",
            "Prediction without smoothing: 1\n",
            "Prdictions with Laplace smoothing: 1\n",
            "\n"
          ]
        },
        {
          "output_type": "stream",
          "name": "stderr",
          "text": [
            "/usr/local/lib/python3.11/dist-packages/sklearn/naive_bayes.py:898: RuntimeWarning: divide by zero encountered in log\n",
            "  self.feature_log_prob_ = np.log(smoothed_fc) - np.log(\n"
          ]
        }
      ],
      "source": [
        "from sklearn.feature_extraction.text import CountVectorizer\n",
        "from sklearn.naive_bayes import MultinomialNB\n",
        "from sklearn.model_selection import train_test_split\n",
        "\n",
        "#smaple toy text data\n",
        "texts = [\n",
        "    \"rainy weather cold\",\n",
        "    \"sunny weather hot,\",\n",
        "    \"rainy rainy cold\",\n",
        "    \"hot weather sunny\",\n",
        "    \"sunny sunny hot\",\n",
        "    \"cold cold rainy\"\n",
        "    ]\n",
        "\n",
        "labels=[0, 1, 0, 1, 1, 0] #0 = cold class, 1 = hot class\n",
        "\n",
        "#convert text to count vectors\n",
        "vectorizer  = CountVectorizer()\n",
        "X = vectorizer.fit_transform(texts)\n",
        "\n",
        "#split data\n",
        "X_train, X_test, y_train, y_test = train_test_split(X, labels, test_size=0.2, random_state=42)\n",
        "\n",
        "#without Laplace smoothing\n",
        "model_no_smooth = MultinomialNB(alpha=0.0)\n",
        "model_no_smooth.fit(X_train, y_train)\n",
        "pred_no_smooth = model_no_smooth.predict(X_test)\n",
        "\n",
        "#with laplace smoothing (alpha=1.0)\n",
        "model_laplace = MultinomialNB(alpha=1.0)\n",
        "model_laplace.fit(X_train, y_train)\n",
        "pred_laplace = model_laplace.predict(X_test)\n",
        "\n",
        "#compare predictions\n",
        "for i, text in enumerate(X_test.toarray()):\n",
        "  print(f'Sample {i+1}:')\n",
        "  print(f'features: {text}')\n",
        "  print(f'Prediction without smoothing: {pred_no_smooth[i]}')\n",
        "  print(f'Prdictions with Laplace smoothing: {pred_laplace[i]}')\n",
        "  print()"
      ]
    },
    {
      "cell_type": "markdown",
      "metadata": {
        "id": "GJ97-gysQd9D"
      },
      "source": [
        "## **Q31.Write a Python program to train an SVM Classifier and use GridSearchCV to tune the hyperparameters (C, gamma, kernel).**"
      ]
    },
    {
      "cell_type": "code",
      "execution_count": 19,
      "metadata": {
        "id": "8fo_mzvoQqDc",
        "colab": {
          "base_uri": "https://localhost:8080/"
        },
        "outputId": "62b6ad3f-295d-4971-8b8a-45de1513a3df"
      },
      "outputs": [
        {
          "output_type": "stream",
          "name": "stdout",
          "text": [
            "Best Parameters:\n",
            "{'C': 1, 'gamma': 'scale', 'kernel': 'poly'}\n",
            "Best Cross-Validation Accuracy: 0.97\n",
            "\n",
            "Classification Report on Test Data:\n",
            "              precision    recall  f1-score   support\n",
            "\n",
            "      setosa       1.00      1.00      1.00        19\n",
            "  versicolor       1.00      0.92      0.96        13\n",
            "   virginica       0.93      1.00      0.96        13\n",
            "\n",
            "    accuracy                           0.98        45\n",
            "   macro avg       0.98      0.97      0.97        45\n",
            "weighted avg       0.98      0.98      0.98        45\n",
            "\n"
          ]
        }
      ],
      "source": [
        "from sklearn import datasets\n",
        "from sklearn.model_selection import train_test_split, GridSearchCV\n",
        "from sklearn.svm import SVC\n",
        "from sklearn.metrics import classification_report\n",
        "\n",
        "#load the dataset\n",
        "iris = datasets.load_iris()\n",
        "X = iris.data\n",
        "y = iris.target\n",
        "\n",
        "#split the data\n",
        "X_train, X_test, y_train, y_test = train_test_split(X, y, test_size=0.3, random_state=42)\n",
        "\n",
        "#define the parameter grid\n",
        "param_grid = {\n",
        "    'C':[0.1, 1, 10, 100],\n",
        "    'gamma': ['scale', 'auto', 0.01, 0.1],\n",
        "    'kernel': ['linear', 'rbf', 'poly']\n",
        "}\n",
        "\n",
        "\n",
        "#initialize the SVM Model\n",
        "svc = SVC()\n",
        "\n",
        "#apply GridSearchCV\n",
        "grid_search = GridSearchCV(svc, param_grid, cv=5, scoring='accuracy', n_jobs=-1)\n",
        "grid_search.fit(X_train, y_train)\n",
        "\n",
        "#print best parameters and score\n",
        "print('Best Parameters:')\n",
        "print(grid_search.best_params_)\n",
        "print(f\"Best Cross-Validation Accuracy: {grid_search.best_score_:.2f}\")\n",
        "\n",
        "#evaluate on test data\n",
        "best_model = grid_search.best_estimator_\n",
        "y_pred = best_model.predict(X_test)\n",
        "\n",
        "print('\\nClassification Report on Test Data:')\n",
        "print(classification_report(y_test, y_pred, target_names=iris.target_names))"
      ]
    },
    {
      "cell_type": "markdown",
      "metadata": {
        "id": "foW93rhUVfYU"
      },
      "source": [
        "## **Q32.Write a Python program to train an SVM Classifier on an imbalanced dataset and apply class weighting and check it improve accuracy.**"
      ]
    },
    {
      "cell_type": "code",
      "execution_count": 20,
      "metadata": {
        "id": "fwChVvfqVlQg",
        "colab": {
          "base_uri": "https://localhost:8080/",
          "height": 0
        },
        "outputId": "10bdbea3-78f5-4090-f858-c5802e2a5ceb"
      },
      "outputs": [
        {
          "output_type": "stream",
          "name": "stdout",
          "text": [
            "Without Class Weighting\n",
            "              precision    recall  f1-score   support\n",
            "\n",
            "           0       0.98      1.00      0.99       264\n",
            "           1       1.00      0.83      0.91        36\n",
            "\n",
            "    accuracy                           0.98       300\n",
            "   macro avg       0.99      0.92      0.95       300\n",
            "weighted avg       0.98      0.98      0.98       300\n",
            "\n",
            "Confusion Matrix:\n"
          ]
        },
        {
          "output_type": "display_data",
          "data": {
            "text/plain": [
              "<Figure size 640x480 with 2 Axes>"
            ],
            "image/png": "[encoded data removed]"
          },
          "metadata": {}
        },
        {
          "output_type": "stream",
          "name": "stdout",
          "text": [
            "\n",
            " With Class Weighting\n",
            "              precision    recall  f1-score   support\n",
            "\n",
            "           0       0.99      1.00      0.99       264\n",
            "           1       0.97      0.92      0.94        36\n",
            "\n",
            "    accuracy                           0.99       300\n",
            "   macro avg       0.98      0.96      0.97       300\n",
            "weighted avg       0.99      0.99      0.99       300\n",
            "\n",
            "Confusion Matrix:\n"
          ]
        },
        {
          "output_type": "display_data",
          "data": {
            "text/plain": [
              "<Figure size 640x480 with 2 Axes>"
            ],
            "image/png": "[encoded data removed]"
          },
          "metadata": {}
        }
      ],
      "source": [
        "from sklearn.datasets import make_classification\n",
        "from sklearn.model_selection import train_test_split\n",
        "from sklearn.svm import SVC\n",
        "from sklearn.metrics import classification_report, confusion_matrix\n",
        "import matplotlib.pyplot as plt\n",
        "import seaborn as sns\n",
        "\n",
        "#Generate an imbalanced dataset\n",
        "X, y = make_classification(n_samples=1000, n_features=2, n_informative=2,\n",
        "                           n_redundant=0, n_clusters_per_class=1,\n",
        "                           weights=[0.9, 0.1], flip_y=0, random_state=42)\n",
        "\n",
        "#Split the dataset\n",
        "X_train, X_test, y_train, y_test = train_test_split(X, y, test_size=0.3, random_state=42)\n",
        "\n",
        "#Train SVM without class weighting\n",
        "svm_plain = SVC(kernel='rbf', C=1.0)\n",
        "svm_plain.fit(X_train, y_train)\n",
        "y_pred_plain = svm_plain.predict(X_test)\n",
        "\n",
        "#Train SVM with class weighting\n",
        "svm_weighted = SVC(kernel='rbf', C=1.0, class_weight='balanced')\n",
        "svm_weighted.fit(X_train, y_train)\n",
        "y_pred_weighted = svm_weighted.predict(X_test)\n",
        "\n",
        "#Evaluation\n",
        "print(\"Without Class Weighting\")\n",
        "print(classification_report(y_test, y_pred_plain))\n",
        "print(\"Confusion Matrix:\")\n",
        "sns.heatmap(confusion_matrix(y_test, y_pred_plain), annot=True, fmt='d', cmap='Blues')\n",
        "plt.title(\"Without Class Weighting\")\n",
        "plt.show()\n",
        "\n",
        "print(\"\\n With Class Weighting\")\n",
        "print(classification_report(y_test, y_pred_weighted))\n",
        "print(\"Confusion Matrix:\")\n",
        "sns.heatmap(confusion_matrix(y_test, y_pred_weighted), annot=True, fmt='d', cmap='Greens')\n",
        "plt.title(\"With Class Weighting\")\n",
        "plt.show()\n"
      ]
    },
    {
      "cell_type": "markdown",
      "metadata": {
        "id": "nj-3nIcMXC6P"
      },
      "source": [
        "## **Q33.Write a Python program to implement a Naïve Bayes classifier for spam detection using email data.**\n"
      ]
    },
    {
      "cell_type": "code",
      "execution_count": 21,
      "metadata": {
        "id": "Sz0WHPtJXKQJ",
        "colab": {
          "base_uri": "https://localhost:8080/",
          "height": 0
        },
        "outputId": "8296967a-f1fa-4277-dd2f-f30fa1298dc8"
      },
      "outputs": [
        {
          "output_type": "stream",
          "name": "stdout",
          "text": [
            "Classification Report\n",
            "              precision    recall  f1-score   support\n",
            "\n",
            "         Ham       0.99      1.00      1.00       966\n",
            "        spam       1.00      0.94      0.97       149\n",
            "\n",
            "    accuracy                           0.99      1115\n",
            "   macro avg       1.00      0.97      0.98      1115\n",
            "weighted avg       0.99      0.99      0.99      1115\n",
            "\n",
            "\n",
            " Confusion Matrix\n"
          ]
        },
        {
          "output_type": "display_data",
          "data": {
            "text/plain": [
              "<Figure size 640x480 with 2 Axes>"
            ],
            "image/png": "[encoded data removed]"
          },
          "metadata": {}
        },
        {
          "output_type": "stream",
          "name": "stdout",
          "text": [
            "\n",
            " Accuracy: 0.99\n"
          ]
        }
      ],
      "source": [
        "import pandas as pd\n",
        "from sklearn.model_selection import train_test_split\n",
        "from sklearn.feature_extraction.text import CountVectorizer\n",
        "from sklearn.naive_bayes import MultinomialNB\n",
        "from sklearn.metrics import classification_report, confusion_matrix, accuracy_score\n",
        "import seaborn as sns\n",
        "import matplotlib.pyplot as plt\n",
        "\n",
        "#load dataset\n",
        "url = \"https://raw.githubusercontent.com/justmarkham/pycon-2016-tutorial/master/data/sms.tsv\"\n",
        "data = pd.read_csv(url, sep='\\t', header=None,  names=['label', 'message'])\n",
        "\n",
        "#convert labels to binary\n",
        "data['label'] = data['label'].map({'ham': 0, 'spam': 1})\n",
        "\n",
        "#split dataset\n",
        "X_train, X_test, y_train, y_test = train_test_split(data['message'], data['label'], test_size=0.2, random_state=42)\n",
        "\n",
        "#vectorize the text data\n",
        "vectorizer = CountVectorizer()\n",
        "X_train_vec = vectorizer.fit_transform(X_train)\n",
        "X_test_vec = vectorizer.transform(X_test)\n",
        "\n",
        "#train a Naive Bayes classifier\n",
        "nb_classifier = MultinomialNB()\n",
        "nb_classifier.fit(X_train_vec, y_train)\n",
        "\n",
        "#predict and evaluate\n",
        "y_pred = nb_classifier.predict(X_test_vec)\n",
        "\n",
        "print(\"Classification Report\")\n",
        "print(classification_report(y_test, y_pred, target_names=['Ham', 'spam']))\n",
        "\n",
        "print(\"\\n Confusion Matrix\")\n",
        "conf_mat = confusion_matrix(y_test, y_pred)\n",
        "sns.heatmap(conf_mat, annot=True, fmt='d', cmap='Blues', xticklabels=['Ham','Spam'], yticklabels=['Ham', 'Spam'])\n",
        "plt.xlabel('Predicted')\n",
        "plt.ylabel('Actual')\n",
        "plt.title(\"Spam Detection Confusion Matrix\")\n",
        "plt.show()\n",
        "\n",
        "print(f\"\\n Accuracy: {accuracy_score(y_test, y_pred):.2f}\")"
      ]
    },
    {
      "cell_type": "markdown",
      "metadata": {
        "id": "wyuXgwOKmxfs"
      },
      "source": [
        "## **Q34.Write a Python program to train an SVM Classifier and a Naïve Bayes Classifier on the same dataset and compare their accuracy.**"
      ]
    },
    {
      "cell_type": "code",
      "execution_count": 22,
      "metadata": {
        "id": "d_Nai3fOm5UY",
        "colab": {
          "base_uri": "https://localhost:8080/"
        },
        "outputId": "00382446-f704-4190-9424-72e65b4dbc72"
      },
      "outputs": [
        {
          "output_type": "stream",
          "name": "stdout",
          "text": [
            "SVM Classifier Report\n",
            "              precision    recall  f1-score   support\n",
            "\n",
            "      setosa       1.00      1.00      1.00        19\n",
            "  versicolor       1.00      1.00      1.00        13\n",
            "   virginica       1.00      1.00      1.00        13\n",
            "\n",
            "    accuracy                           1.00        45\n",
            "   macro avg       1.00      1.00      1.00        45\n",
            "weighted avg       1.00      1.00      1.00        45\n",
            "\n",
            "SVM Accuracy: 1.00\n",
            "\n",
            "Naïve Bayes Classifier Report\n",
            "              precision    recall  f1-score   support\n",
            "\n",
            "      setosa       1.00      1.00      1.00        19\n",
            "  versicolor       1.00      0.92      0.96        13\n",
            "   virginica       0.93      1.00      0.96        13\n",
            "\n",
            "    accuracy                           0.98        45\n",
            "   macro avg       0.98      0.97      0.97        45\n",
            "weighted avg       0.98      0.98      0.98        45\n",
            "\n",
            "Naïve Bayes Accuracy: 0.98\n",
            "\n",
            "Comparison Summary\n",
            "SVM performed better.\n"
          ]
        }
      ],
      "source": [
        "from sklearn import datasets\n",
        "from sklearn.model_selection import train_test_split\n",
        "from sklearn.svm import SVC\n",
        "from sklearn.naive_bayes import GaussianNB\n",
        "from sklearn.metrics import accuracy_score, classification_report\n",
        "\n",
        "#load the dataset\n",
        "iris = datasets.load_iris()\n",
        "X = iris.data\n",
        "y = iris.target\n",
        "\n",
        "X_train, X_test, y_train, y_test = train_test_split(\n",
        "    X, y, test_size=0.3, random_state=42)\n",
        "\n",
        "\n",
        "#train an SVM classifier\n",
        "\n",
        "svm_model = SVC(kernel='rbf', C=1.0, gamma='scale')\n",
        "svm_model.fit(X_train, y_train)\n",
        "svm_preds = svm_model.predict(X_test)\n",
        "\n",
        "\n",
        "#Train a Naïve Bayes classifier\n",
        "nb_model = GaussianNB()\n",
        "nb_model.fit(X_train, y_train)\n",
        "nb_preds = nb_model.predict(X_test)\n",
        "\n",
        "#evaluate and compare\n",
        "svm_acc = accuracy_score(y_test, svm_preds)\n",
        "nb_acc = accuracy_score(y_test, nb_preds)\n",
        "\n",
        "print(\"SVM Classifier Report\")\n",
        "print(classification_report(y_test, svm_preds, target_names=iris.target_names))\n",
        "print(f\"SVM Accuracy: {svm_acc:.2f}\")\n",
        "\n",
        "print(\"\\nNaïve Bayes Classifier Report\")\n",
        "print(classification_report(y_test, nb_preds, target_names=iris.target_names))\n",
        "print(f\"Naïve Bayes Accuracy: {nb_acc:.2f}\")\n",
        "\n",
        "# Step 6: Comparison Summary\n",
        "print(\"\\nComparison Summary\")\n",
        "if svm_acc > nb_acc:\n",
        "    print(\"SVM performed better.\")\n",
        "elif nb_acc > svm_acc:\n",
        "    print(\"Naïve Bayes performed better.\")\n",
        "else:\n",
        "    print(\"Both classifiers performed equally well.\")\n"
      ]
    },
    {
      "cell_type": "markdown",
      "metadata": {
        "id": "B4jWX11gqelv"
      },
      "source": [
        "## **Q35.Write a Python program to perform feature selection before training a Naïve Bayes classifier and compare results.**"
      ]
    },
    {
      "cell_type": "code",
      "execution_count": 23,
      "metadata": {
        "id": "ymcGkxUhq0fB",
        "colab": {
          "base_uri": "https://localhost:8080/"
        },
        "outputId": "4377a86f-a75f-4359-aaa3-ad97253c2900"
      },
      "outputs": [
        {
          "output_type": "stream",
          "name": "stdout",
          "text": [
            ">>>>>Without Feature Selection<<<<<<\n",
            "              precision    recall  f1-score   support\n",
            "\n",
            "   malignant       0.93      0.90      0.92        63\n",
            "      benign       0.95      0.96      0.95       108\n",
            "\n",
            "    accuracy                           0.94       171\n",
            "   macro avg       0.94      0.93      0.94       171\n",
            "weighted avg       0.94      0.94      0.94       171\n",
            "\n",
            "Accuracy: 0.94\n",
            "\n",
            ">>>>>With Feature Selection (Top 10 features)<<<<<\n",
            "              precision    recall  f1-score   support\n",
            "\n",
            "   malignant       0.97      0.92      0.94        63\n",
            "      benign       0.95      0.98      0.97       108\n",
            "\n",
            "    accuracy                           0.96       171\n",
            "   macro avg       0.96      0.95      0.96       171\n",
            "weighted avg       0.96      0.96      0.96       171\n",
            "\n",
            "Accuracy: 0.96\n",
            "\n",
            ">>>>>>>Summary<<<<<<<\n",
            "Feature selection improved accuracy.\n"
          ]
        }
      ],
      "source": [
        "from sklearn.datasets import load_breast_cancer\n",
        "from sklearn.model_selection import train_test_split\n",
        "from sklearn.naive_bayes import GaussianNB\n",
        "from sklearn.feature_selection import SelectKBest, f_classif\n",
        "from sklearn.metrics import accuracy_score, classification_report\n",
        "\n",
        "#Load dataset\n",
        "data = load_breast_cancer()\n",
        "X = data.data\n",
        "y = data.target\n",
        "\n",
        "#Split the data\n",
        "X_train, X_test, y_train, y_test = train_test_split(\n",
        "    X, y, test_size=0.3, random_state=42)\n",
        "\n",
        "#Train Naïve Bayes without feature selection\n",
        "nb = GaussianNB()\n",
        "nb.fit(X_train, y_train)\n",
        "y_pred_full = nb.predict(X_test)\n",
        "acc_full = accuracy_score(y_test, y_pred_full)\n",
        "\n",
        "#Perform feature selection (SelectKBest)\n",
        "selector = SelectKBest(score_func=f_classif, k=10)\n",
        "X_train_selected = selector.fit_transform(X_train, y_train)\n",
        "X_test_selected = selector.transform(X_test)\n",
        "\n",
        "#Train Naïve Bayes with selected features\n",
        "nb_selected = GaussianNB()\n",
        "nb_selected.fit(X_train_selected, y_train)\n",
        "y_pred_selected = nb_selected.predict(X_test_selected)\n",
        "acc_selected = accuracy_score(y_test, y_pred_selected)\n",
        "\n",
        "#Print results\n",
        "print(\">>>>>Without Feature Selection<<<<<<\")\n",
        "print(classification_report(y_test, y_pred_full, target_names=data.target_names))\n",
        "print(f\"Accuracy: {acc_full:.2f}\")\n",
        "\n",
        "print(\"\\n>>>>>With Feature Selection (Top 10 features)<<<<<\")\n",
        "print(classification_report(y_test, y_pred_selected, target_names=data.target_names))\n",
        "print(f\"Accuracy: {acc_selected:.2f}\")\n",
        "\n",
        "#Summary\n",
        "print(\"\\n>>>>>>>Summary<<<<<<<\")\n",
        "if acc_selected > acc_full:\n",
        "    print(\"Feature selection improved accuracy.\")\n",
        "elif acc_selected < acc_full:\n",
        "    print(\"Feature selection reduced accuracy.\")\n",
        "else:\n",
        "    print(\"Accuracy remained the same after feature selection.\")\n"
      ]
    },
    {
      "cell_type": "markdown",
      "metadata": {
        "id": "lkp-3HuxsJ_T"
      },
      "source": [
        "## **Q36.Write a Python program to train an SVM Classifier using One-vs-Rest (OvR) and One-vs-One (OvO) strategies on the Wine dataset and compare their accuracy.**"
      ]
    },
    {
      "cell_type": "code",
      "execution_count": 24,
      "metadata": {
        "id": "dL4Gj0UqsR6M",
        "colab": {
          "base_uri": "https://localhost:8080/"
        },
        "outputId": "bb050a0a-71c2-4a7b-ba2a-88f010212f7e"
      },
      "outputs": [
        {
          "output_type": "stream",
          "name": "stdout",
          "text": [
            ">>>One-vs-Rest (OvR) Classification Report<<<\n",
            "              precision    recall  f1-score   support\n",
            "\n",
            "     class_0       0.83      1.00      0.90        19\n",
            "     class_1       0.65      0.95      0.77        21\n",
            "     class_2       0.00      0.00      0.00        14\n",
            "\n",
            "    accuracy                           0.72        54\n",
            "   macro avg       0.49      0.65      0.56        54\n",
            "weighted avg       0.54      0.72      0.62        54\n",
            "\n",
            "Accuracy(OvR): 0.72\n",
            "\n",
            ">>>One-vs-One (OvO) Classification Report<<<\n",
            "              precision    recall  f1-score   support\n",
            "\n",
            "     class_0       1.00      1.00      1.00        19\n",
            "     class_1       0.78      0.67      0.72        21\n",
            "     class_2       0.59      0.71      0.65        14\n",
            "\n",
            "    accuracy                           0.80        54\n",
            "   macro avg       0.79      0.79      0.79        54\n",
            "weighted avg       0.81      0.80      0.80        54\n",
            "\n",
            "Accuracy(OvO): 0.80\n",
            "\n",
            ">>>Comparison Summery<<<\n",
            "One-vs-One (OvO) performed better.\n"
          ]
        },
        {
          "output_type": "stream",
          "name": "stderr",
          "text": [
            "/usr/local/lib/python3.11/dist-packages/sklearn/metrics/_classification.py:1565: UndefinedMetricWarning: Precision is ill-defined and being set to 0.0 in labels with no predicted samples. Use `zero_division` parameter to control this behavior.\n",
            "  _warn_prf(average, modifier, f\"{metric.capitalize()} is\", len(result))\n",
            "/usr/local/lib/python3.11/dist-packages/sklearn/metrics/_classification.py:1565: UndefinedMetricWarning: Precision is ill-defined and being set to 0.0 in labels with no predicted samples. Use `zero_division` parameter to control this behavior.\n",
            "  _warn_prf(average, modifier, f\"{metric.capitalize()} is\", len(result))\n",
            "/usr/local/lib/python3.11/dist-packages/sklearn/metrics/_classification.py:1565: UndefinedMetricWarning: Precision is ill-defined and being set to 0.0 in labels with no predicted samples. Use `zero_division` parameter to control this behavior.\n",
            "  _warn_prf(average, modifier, f\"{metric.capitalize()} is\", len(result))\n"
          ]
        }
      ],
      "source": [
        "from sklearn.datasets import load_wine\n",
        "from sklearn.model_selection import train_test_split\n",
        "from sklearn.svm import SVC\n",
        "from sklearn.multiclass import OneVsRestClassifier, OneVsOneClassifier\n",
        "from sklearn.metrics import accuracy_score, classification_report\n",
        "\n",
        "\n",
        "#load the dataset\n",
        "wine = load_wine()\n",
        "X = wine.data\n",
        "y = wine.target\n",
        "\n",
        "#split into train and test sets\n",
        "X_train, X_test, y_train, y_test = train_test_split(\n",
        "    X, y, test_size=0.3, random_state=42\n",
        ")\n",
        "\n",
        "#train SVM using One-vs-Rest strategy\n",
        "ovr_model = OneVsRestClassifier(SVC(kernel='rbf', gamma='scale'))\n",
        "ovr_model.fit(X_train, y_train)\n",
        "ovr_preds = ovr_model.predict(X_test)\n",
        "ovr_acc = accuracy_score(y_test, ovr_preds)\n",
        "\n",
        "#train SVM using One-vs-One strategy\n",
        "ovo_model = OneVsOneClassifier(SVC(kernel='rbf', gamma='scale'))\n",
        "ovo_model.fit(X_train, y_train)\n",
        "ovo_preds = ovo_model.predict(X_test)\n",
        "ovo_acc = accuracy_score(y_test, ovo_preds)\n",
        "\n",
        "#print results\n",
        "print(\">>>One-vs-Rest (OvR) Classification Report<<<\")\n",
        "print(classification_report(y_test, ovr_preds, target_names=wine.target_names))\n",
        "print(f\"Accuracy(OvR): {ovr_acc:.2f}\")\n",
        "\n",
        "print(\"\\n>>>One-vs-One (OvO) Classification Report<<<\")\n",
        "print(classification_report(y_test, ovo_preds, target_names=wine.target_names))\n",
        "print(f\"Accuracy(OvO): {ovo_acc:.2f}\")\n",
        "\n",
        "#Comparison\n",
        "print(\"\\n>>>Comparison Summery<<<\")\n",
        "if ovr_acc  > ovo_acc:\n",
        "     print(\"Ove-vs-Rest (OvR) performed better.\")\n",
        "elif ovo_acc > ovr_acc:\n",
        "     print(\"One-vs-One (OvO) performed better.\")\n",
        "else:\n",
        "     print(\"Both OvR and OvO archieved the same accuracy.\")"
      ]
    },
    {
      "cell_type": "markdown",
      "metadata": {
        "id": "1qVkRNjsxJUn"
      },
      "source": [
        "## **Q37.Write a Python program to train an SVM Classifier using Linear, Polynomial, and RBF kernels on the Breast Cancer dataset and compare their accuracy.**"
      ]
    },
    {
      "cell_type": "code",
      "execution_count": 25,
      "metadata": {
        "id": "AA8e99rLxS4r",
        "colab": {
          "base_uri": "https://localhost:8080/"
        },
        "outputId": "eb153a94-3d3c-4a99-ce35-6f0addc1fc16"
      },
      "outputs": [
        {
          "output_type": "stream",
          "name": "stdout",
          "text": [
            "=== SVM with Linear Kernel ===\n",
            "Accuracy: 0.96\n",
            "              precision    recall  f1-score   support\n",
            "\n",
            "   malignant       0.97      0.94      0.95        63\n",
            "      benign       0.96      0.98      0.97       108\n",
            "\n",
            "    accuracy                           0.96       171\n",
            "   macro avg       0.97      0.96      0.96       171\n",
            "weighted avg       0.96      0.96      0.96       171\n",
            "\n",
            "\n",
            "=== SVM with Polynomial Kernel ===\n",
            "Accuracy: 0.94\n",
            "              precision    recall  f1-score   support\n",
            "\n",
            "   malignant       0.98      0.86      0.92        63\n",
            "      benign       0.92      0.99      0.96       108\n",
            "\n",
            "    accuracy                           0.94       171\n",
            "   macro avg       0.95      0.92      0.94       171\n",
            "weighted avg       0.94      0.94      0.94       171\n",
            "\n",
            "\n",
            "=== SVM with RBF Kernel ===\n",
            "Accuracy: 0.94\n",
            "              precision    recall  f1-score   support\n",
            "\n",
            "   malignant       1.00      0.83      0.90        63\n",
            "      benign       0.91      1.00      0.95       108\n",
            "\n",
            "    accuracy                           0.94       171\n",
            "   macro avg       0.95      0.91      0.93       171\n",
            "weighted avg       0.94      0.94      0.93       171\n",
            "\n",
            "\n",
            "=== Accuracy Comparison ===\n",
            "Linear Kernel Accuracy:     0.96\n",
            "Polynomial Kernel Accuracy: 0.94\n",
            "RBF Kernel Accuracy:        0.94\n"
          ]
        }
      ],
      "source": [
        "from sklearn.datasets import load_breast_cancer\n",
        "from sklearn.model_selection import train_test_split\n",
        "from sklearn.svm import SVC\n",
        "from sklearn.metrics import accuracy_score, classification_report\n",
        "\n",
        "#load the dataset\n",
        "data = load_breast_cancer()\n",
        "X = data.data\n",
        "y = data.target\n",
        "\n",
        "#Split the dataset\n",
        "X_train, X_test, y_train, y_test = train_test_split(X, y, test_size=0.3, random_state=42\n",
        ")\n",
        "\n",
        "#train SVM with linear kernel\n",
        "svm_linear = SVC(kernel='linear')\n",
        "svm_linear.fit(X_train, y_train)\n",
        "y_pred_linear = svm_linear.predict(X_test)\n",
        "acc_linear = accuracy_score(y_test, y_pred_linear)\n",
        "\n",
        "#train SVM with polynomial kernel\n",
        "svm_poly = SVC(kernel='poly', degree=3)\n",
        "svm_poly.fit(X_train, y_train)\n",
        "y_pred_poly = svm_poly.predict(X_test)\n",
        "acc_poly = accuracy_score(y_test, y_pred_poly)\n",
        "\n",
        "#train SVM with RBF kernel\n",
        "svm_rbf = SVC(kernel='rbf')\n",
        "svm_rbf.fit(X_train, y_train)\n",
        "y_pred_rbf = svm_rbf.predict(X_test)\n",
        "acc_rbf = accuracy_score(y_test, y_pred_rbf)\n",
        "\n",
        "\n",
        "#Display results\n",
        "print(\"=== SVM with Linear Kernel ===\")\n",
        "print(f\"Accuracy: {acc_linear:.2f}\")\n",
        "print(classification_report(y_test, y_pred_linear, target_names=data.target_names))\n",
        "\n",
        "print(\"\\n=== SVM with Polynomial Kernel ===\")\n",
        "print(f\"Accuracy: {acc_poly:.2f}\")\n",
        "print(classification_report(y_test, y_pred_poly, target_names=data.target_names))\n",
        "\n",
        "print(\"\\n=== SVM with RBF Kernel ===\")\n",
        "print(f\"Accuracy: {acc_rbf:.2f}\")\n",
        "print(classification_report(y_test, y_pred_rbf, target_names=data.target_names))\n",
        "\n",
        "# Step 7: Summary\n",
        "print(\"\\n=== Accuracy Comparison ===\")\n",
        "print(f\"Linear Kernel Accuracy:     {acc_linear:.2f}\")\n",
        "print(f\"Polynomial Kernel Accuracy: {acc_poly:.2f}\")\n",
        "print(f\"RBF Kernel Accuracy:        {acc_rbf:.2f}\")"
      ]
    },
    {
      "cell_type": "markdown",
      "metadata": {
        "id": "V_5Jbbo959Pw"
      },
      "source": [
        "## **Q38.Write a Python program to train an SVM Classifier using Stratified K-Fold Cross-Validation and compute the average accuracy.**"
      ]
    },
    {
      "cell_type": "code",
      "execution_count": 26,
      "metadata": {
        "id": "vM48QGtK6DYq",
        "colab": {
          "base_uri": "https://localhost:8080/"
        },
        "outputId": "bfaad05d-0431-4faf-cef9-67de4b2b66a5"
      },
      "outputs": [
        {
          "output_type": "stream",
          "name": "stdout",
          "text": [
            "Fold 1: Accuracy = 0.94\n",
            "Fold 2: Accuracy = 0.88\n",
            "Fold 3: Accuracy = 0.89\n",
            "Fold 4: Accuracy = 0.94\n",
            "Fold 5: Accuracy = 0.92\n",
            "\n",
            "Average Accuracy over5 folds: 0.91\n"
          ]
        }
      ],
      "source": [
        "from sklearn.datasets import load_breast_cancer\n",
        "from sklearn.model_selection import StratifiedKFold\n",
        "from sklearn.svm import SVC\n",
        "from sklearn.metrics import accuracy_score\n",
        "import numpy as np\n",
        "\n",
        "data = load_breast_cancer()\n",
        "X = data.data\n",
        "y = data.target\n",
        "\n",
        "#Initialize StratifiedKFold\n",
        "skf = StratifiedKFold(n_splits=5, shuffle=True, random_state=42)\n",
        "\n",
        "#Initialize SVM\n",
        "model = SVC(kernel='rbf', gamma='scale')\n",
        "\n",
        "#Cross-validation\n",
        "accuracies = []\n",
        "\n",
        "for fold, (train_index, text_index) in enumerate(skf.split(X,y), 1):\n",
        "  X_train, X_test = X[train_index], X[text_index]\n",
        "  y_train, y_test = y[train_index], y[text_index]\n",
        "\n",
        "  model.fit(X_train, y_train)\n",
        "  y_pred = model.predict(X_test)\n",
        "  acc = accuracy_score(y_test, y_pred)\n",
        "  accuracies.append(acc)\n",
        "  print(f\"Fold {fold}: Accuracy = {acc:.2f}\")\n",
        "\n",
        "#average accuracy\n",
        "mean_acc = np.mean(accuracies)\n",
        "print(f\"\\nAverage Accuracy over{skf.get_n_splits()} folds: {mean_acc:.2f}\")"
      ]
    },
    {
      "cell_type": "markdown",
      "metadata": {
        "id": "tw7RLxBh9jyZ"
      },
      "source": [
        "## **Q39.Write a Python program to train a Naïve Bayes classifier using different prior probabilities and compare performance.**"
      ]
    },
    {
      "cell_type": "code",
      "execution_count": 27,
      "metadata": {
        "id": "YCOWxW5-aP0g",
        "colab": {
          "base_uri": "https://localhost:8080/"
        },
        "outputId": "dd4de9f5-d15b-414c-e1b9-c0ce2741a1cf"
      },
      "outputs": [
        {
          "output_type": "stream",
          "name": "stdout",
          "text": [
            "\n",
            ">>>Model 1: Priors = None<<<<\n",
            "Accuracy: 0.91\n",
            "              precision    recall  f1-score   support\n",
            "\n",
            "      setosa       1.00      1.00      1.00        15\n",
            "  versicolor       0.82      0.93      0.88        15\n",
            "   virginica       0.92      0.80      0.86        15\n",
            "\n",
            "    accuracy                           0.91        45\n",
            "   macro avg       0.92      0.91      0.91        45\n",
            "weighted avg       0.92      0.91      0.91        45\n",
            "\n",
            "\n",
            ">>>Model 2: Priors = [0.3333333333333333, 0.3333333333333333, 0.3333333333333333]<<<<\n",
            "Accuracy: 0.91\n",
            "              precision    recall  f1-score   support\n",
            "\n",
            "      setosa       1.00      1.00      1.00        15\n",
            "  versicolor       0.82      0.93      0.88        15\n",
            "   virginica       0.92      0.80      0.86        15\n",
            "\n",
            "    accuracy                           0.91        45\n",
            "   macro avg       0.92      0.91      0.91        45\n",
            "weighted avg       0.92      0.91      0.91        45\n",
            "\n",
            "\n",
            ">>>Model 3: Priors = [0.7, 0.2, 0.1]<<<<\n",
            "Accuracy: 0.91\n",
            "              precision    recall  f1-score   support\n",
            "\n",
            "      setosa       1.00      1.00      1.00        15\n",
            "  versicolor       0.82      0.93      0.88        15\n",
            "   virginica       0.92      0.80      0.86        15\n",
            "\n",
            "    accuracy                           0.91        45\n",
            "   macro avg       0.92      0.91      0.91        45\n",
            "weighted avg       0.92      0.91      0.91        45\n",
            "\n",
            "\n",
            ">>>Model 4: Priors = [0.1, 0.7, 0.2]<<<<\n",
            "Accuracy: 0.91\n",
            "              precision    recall  f1-score   support\n",
            "\n",
            "      setosa       1.00      1.00      1.00        15\n",
            "  versicolor       0.82      0.93      0.88        15\n",
            "   virginica       0.92      0.80      0.86        15\n",
            "\n",
            "    accuracy                           0.91        45\n",
            "   macro avg       0.92      0.91      0.91        45\n",
            "weighted avg       0.92      0.91      0.91        45\n",
            "\n"
          ]
        }
      ],
      "source": [
        "from sklearn.datasets import load_iris\n",
        "from sklearn.model_selection import train_test_split\n",
        "from sklearn.naive_bayes import GaussianNB\n",
        "from sklearn.metrics import accuracy_score, classification_report\n",
        "import numpy as np\n",
        "\n",
        "#Load the Iris dataset\n",
        "data = load_iris()\n",
        "X = data.data\n",
        "y = data.target\n",
        "target_names = data.target_names\n",
        "\n",
        "#Split the dataset\n",
        "X_train, X_test, y_train, y_test = train_test_split(\n",
        "    X, y, test_size=0.3, random_state=42, stratify=y\n",
        ")\n",
        "\n",
        "#Define different prior probabilities\n",
        "priors_list = [\n",
        "    None,   #Default priors\n",
        "    [1/3, 1/3, 1/3],#Uniform priors\n",
        "    [0.7, 0.2, 0.1],#Skewed towards class 0\n",
        "    [0.1, 0.7, 0.2],#Skewed towards class 1\n",
        "]\n",
        "\n",
        "#train and evaluate with each set of priors\n",
        "for i, priors in enumerate(priors_list, start=1):\n",
        "    model = GaussianNB(priors=priors)\n",
        "    model.fit(X_train, y_train)\n",
        "    y_pred = model.predict(X_test)\n",
        "    acc = accuracy_score(y_test, y_pred)\n",
        "\n",
        "    print(f\"\\n>>>Model {i}: Priors = {priors}<<<<\")\n",
        "    print(f\"Accuracy: {acc:.2f}\")\n",
        "    print(classification_report(y_test, y_pred, target_names=target_names))\n"
      ]
    },
    {
      "cell_type": "markdown",
      "metadata": {
        "id": "WCwgeZB4blbw"
      },
      "source": [
        "## **Q40.Write a Python program to perform Recursive Feature Elimination (RFE) before training an SVM Classifier and compare accuracy.**"
      ]
    },
    {
      "cell_type": "code",
      "execution_count": 28,
      "metadata": {
        "id": "lROaHyxAcPJv",
        "colab": {
          "base_uri": "https://localhost:8080/"
        },
        "outputId": "7c295f30-1d0b-42fb-bf5e-2553b78595d9"
      },
      "outputs": [
        {
          "output_type": "stream",
          "name": "stdout",
          "text": [
            "Accuracy without RFE: 0.95\n",
            "Accuracy with RFE(top 10 features): 0.96\n"
          ]
        }
      ],
      "source": [
        "from sklearn.datasets import load_breast_cancer\n",
        "from sklearn.model_selection import train_test_split\n",
        "from sklearn.svm import SVC\n",
        "from sklearn.feature_selection import RFE\n",
        "from sklearn.metrics import accuracy_score\n",
        "\n",
        "#load dataset\n",
        "data = load_breast_cancer()\n",
        "X = data.data\n",
        "y = data.target\n",
        "\n",
        "#tarin split\n",
        "X_train, X_test, y_train, y_test = train_test_split(\n",
        "    X, y, test_size=0.3, random_state=42, stratify=y\n",
        ")\n",
        "\n",
        "#train SVM without feature selection\n",
        "model_full = SVC(kernel='linear')\n",
        "model_full.fit(X_train, y_train)\n",
        "y_pred_full = model_full.predict(X_test)\n",
        "acc_full = accuracy_score(y_test, y_pred_full)\n",
        "print(f'Accuracy without RFE: {acc_full:.2f}')\n",
        "\n",
        "#apply recursive feature elimination (RFE)\n",
        "rfe = RFE(estimator=SVC(kernel='linear'), n_features_to_select=10)\n",
        "rfe.fit(X_train, y_train)\n",
        "\n",
        "\n",
        "#transform features\n",
        "X_train_rfe = rfe.transform(X_train)\n",
        "X_test_rfe = rfe.transform(X_test)\n",
        "\n",
        "#train SVM with selected features\n",
        "model_rfe = SVC(kernel='linear')\n",
        "model_rfe.fit(X_train_rfe, y_train)\n",
        "y_pred_rfe = model_rfe.predict(X_test_rfe)\n",
        "acc_rfe = accuracy_score(y_test, y_pred_rfe)\n",
        "print(f'Accuracy with RFE(top 10 features): {acc_rfe:.2f}')"
      ]
    },
    {
      "cell_type": "markdown",
      "metadata": {
        "id": "Dc8wHsupgQ5R"
      },
      "source": [
        "## **Q41.Write a Python program to train an SVM Classifier and evaluate its performance using Precision, Recall, and F1-Score instead of accuracy.**"
      ]
    },
    {
      "cell_type": "code",
      "execution_count": 29,
      "metadata": {
        "id": "uvszA80Qgd3h",
        "colab": {
          "base_uri": "https://localhost:8080/"
        },
        "outputId": "f4b248bb-aa0e-499e-996e-aca329b2c56c"
      },
      "outputs": [
        {
          "output_type": "stream",
          "name": "stdout",
          "text": [
            "Classification Report:\n",
            "              precision    recall  f1-score   support\n",
            "\n",
            "      setosa       1.00      1.00      1.00        15\n",
            "  versicolor       0.93      0.93      0.93        15\n",
            "   virginica       0.93      0.93      0.93        15\n",
            "\n",
            "    accuracy                           0.96        45\n",
            "   macro avg       0.96      0.96      0.96        45\n",
            "weighted avg       0.96      0.96      0.96        45\n",
            "\n",
            "Macro Precision: 0.96\n",
            "Macri Recall: 0.96\n",
            "Macro F1-Score: 0.96\n"
          ]
        }
      ],
      "source": [
        "from sklearn import datasets\n",
        "from sklearn.model_selection import train_test_split\n",
        "from sklearn.svm import SVC\n",
        "from sklearn.metrics import precision_score, recall_score, f1_score, classification_report\n",
        "\n",
        "#load the data\n",
        "iris = datasets.load_iris()\n",
        "X = iris.data\n",
        "y = iris.target\n",
        "\n",
        "#split the data into training and testing sets\n",
        "X_train, X_test, y_train, y_test = train_test_split(\n",
        "    X, y, test_size=0.3, random_state=42, stratify=y\n",
        ")\n",
        "\n",
        "#intialize and train the SVM classifier\n",
        "svm_model = SVC(kernel='rbf', C=1.0, gamma='scale')\n",
        "svm_model.fit(X_train, y_train)\n",
        "\n",
        "#ppredict the test data\n",
        "y_pred = svm_model.predict(X_test)\n",
        "\n",
        "#evaluate using precision , recall and F1-score\n",
        "print('Classification Report:')\n",
        "print(classification_report(y_test, y_pred, target_names=iris.target_names))\n",
        "\n",
        "#get macro/micro avearage scores individually\n",
        "precision = precision_score(y_test, y_pred, average='macro')\n",
        "recall = recall_score(y_test, y_pred, average='macro')\n",
        "f1 = f1_score(y_test, y_pred, average='macro')\n",
        "\n",
        "\n",
        "print(f'Macro Precision: {precision:.2f}')\n",
        "print(f'Macri Recall: {recall:.2f}')\n",
        "print(f'Macro F1-Score: {f1:.2f}')"
      ]
    },
    {
      "cell_type": "markdown",
      "metadata": {
        "id": "7-zdhnC5Ipht"
      },
      "source": [
        "## **Q42.Write a Python program to train a Naïve Bayes Classifier and evaluate its performance using Log Loss (Cross-Entropy Loss).**"
      ]
    },
    {
      "cell_type": "code",
      "execution_count": 30,
      "metadata": {
        "id": "rJYLvLR4I4Xz",
        "colab": {
          "base_uri": "https://localhost:8080/"
        },
        "outputId": "939dd450-519f-4155-df54-88d08844da5e"
      },
      "outputs": [
        {
          "output_type": "stream",
          "name": "stdout",
          "text": [
            "Log Loss (Cross-Entropy Loss): 0.2348\n"
          ]
        }
      ],
      "source": [
        "from sklearn import datasets\n",
        "from sklearn.model_selection import train_test_split\n",
        "from sklearn.naive_bayes import GaussianNB\n",
        "from sklearn.metrics import log_loss\n",
        "\n",
        "#load the dataset\n",
        "iris = datasets.load_iris()\n",
        "X = iris.data\n",
        "y = iris.target\n",
        "\n",
        "#split into training and test sets\n",
        "X_train, X_test, y_train, y_test = train_test_split(\n",
        "    X, y, test_size=0.3, random_state=42, stratify=y\n",
        ")\n",
        "\n",
        "#initialize and train the Gaussian Naive Bayes model\n",
        "nb_model = GaussianNB()\n",
        "nb_model.fit(X_train, y_train)\n",
        "\n",
        "#Predict class probabilities on the test set\n",
        "y_prob = nb_model.predict_proba(X_test)\n",
        "\n",
        "#compute Log Loss (Cross-Entropy Loss)\n",
        "loss = log_loss(y_test, y_prob)\n",
        "\n",
        "print(f\"Log Loss (Cross-Entropy Loss): {loss:.4f}\")"
      ]
    },
    {
      "cell_type": "markdown",
      "metadata": {
        "id": "Hq5y6RPzNZww"
      },
      "source": [
        "## **Q43.Write a Python program to train an SVM Classifier and visualize the Confusion Matrix using seaborn**"
      ]
    },
    {
      "cell_type": "code",
      "execution_count": 31,
      "metadata": {
        "id": "s38Ar0dUNfi7",
        "colab": {
          "base_uri": "https://localhost:8080/",
          "height": 0
        },
        "outputId": "b1c4266b-f3ba-4385-efd6-2d40c9184632"
      },
      "outputs": [
        {
          "output_type": "display_data",
          "data": {
            "text/plain": [
              "<Figure size 800x600 with 2 Axes>"
            ],
            "image/png": "[encoded data removed]"
          },
          "metadata": {}
        }
      ],
      "source": [
        "import seaborn as sns\n",
        "import matplotlib.pyplot as plt\n",
        "from sklearn import datasets\n",
        "from sklearn.model_selection import train_test_split\n",
        "from sklearn.svm import SVC\n",
        "from sklearn.metrics import confusion_matrix, classification_report\n",
        "\n",
        "#load dataset\n",
        "iris = datasets.load_iris()\n",
        "X = iris.data\n",
        "y = iris.target\n",
        "class_names = iris.target_names\n",
        "\n",
        "#split into train/test sets\n",
        "X_train, X_test, y_train, y_test = train_test_split(\n",
        "      X, y, test_size=0.3, random_state=42, stratify=y\n",
        ")\n",
        "\n",
        "#train an SVM classifier\n",
        "svm_model = SVC(kernel='rbf', C=1.0)\n",
        "svm_model.fit(X_train, y_train)\n",
        "\n",
        "\n",
        "#make preditions\n",
        "y_pred = svm_model.predict(X_test)\n",
        "\n",
        "#compute the confusion matrix\n",
        "cm = confusion_matrix(y_test, y_pred)\n",
        "\n",
        "#visualize the confusion matrix\n",
        "plt.figure(figsize=(8,6))\n",
        "sns.heatmap(cm, annot=True, fmt='d', cmap='Blues', xticklabels=class_names, yticklabels=class_names)\n",
        "plt.xlabel('Predicted')\n",
        "plt.ylabel('Actual')\n",
        "plt.title('Confusion Matrix - SVM Classifier')\n",
        "plt.tight_layout()\n",
        "plt.show()"
      ]
    },
    {
      "cell_type": "markdown",
      "metadata": {
        "id": "E-_LWYBEPzbd"
      },
      "source": [
        "## **Q44.Write a Python program to train an SVM Regressor (SVR) and evaluate its performance using Mean Absolute Error (MAE) instead of MSE.**"
      ]
    },
    {
      "cell_type": "code",
      "execution_count": 32,
      "metadata": {
        "colab": {
          "base_uri": "https://localhost:8080/"
        },
        "id": "4T0ssyNQa_Ze",
        "outputId": "16da438b-99a3-433f-f59e-fc6a5e29f7c6"
      },
      "outputs": [
        {
          "output_type": "stream",
          "name": "stdout",
          "text": [
            "Mean Absolute Error: 0.3832\n"
          ]
        }
      ],
      "source": [
        "from sklearn.datasets import fetch_california_housing\n",
        "from sklearn.model_selection import train_test_split\n",
        "from sklearn.svm import SVR\n",
        "from sklearn.preprocessing import StandardScaler\n",
        "from sklearn.metrics import mean_absolute_error\n",
        "\n",
        "#Load dataset\n",
        "data = fetch_california_housing()\n",
        "X = data.data\n",
        "y = data.target\n",
        "\n",
        "#Split data\n",
        "X_train, X_test, y_train, y_test = train_test_split(X, y, test_size=0.2, random_state=42)\n",
        "\n",
        "#Scale features\n",
        "scaler = StandardScaler()\n",
        "X_train = scaler.fit_transform(X_train)\n",
        "X_test = scaler.transform(X_test)\n",
        "\n",
        "#Train SVR\n",
        "svr_model = SVR(kernel='rbf', C=10, gamma=0.1)  # Adjusted for speed\n",
        "svr_model.fit(X_train, y_train)\n",
        "\n",
        "#Predict\n",
        "y_pred = svr_model.predict(X_test)\n",
        "\n",
        "#Evaluate using MAE\n",
        "mae = mean_absolute_error(y_test, y_pred)\n",
        "print(f\"Mean Absolute Error: {mae:.4f}\")\n"
      ]
    },
    {
      "cell_type": "markdown",
      "metadata": {
        "id": "hqKlPbn5cVPx"
      },
      "source": [
        "## **Q45.Write a Python program to train a Naïve Bayes classifier and evaluate its performance using the ROC-AUC score.**"
      ]
    },
    {
      "cell_type": "code",
      "execution_count": 33,
      "metadata": {
        "id": "KSb_WeyGcccJ",
        "colab": {
          "base_uri": "https://localhost:8080/",
          "height": 0
        },
        "outputId": "c34b4ad1-eb0c-4c23-906b-76a3aebcf3d9"
      },
      "outputs": [
        {
          "output_type": "stream",
          "name": "stdout",
          "text": [
            "ROC-AUC Score: 0.9901\n"
          ]
        },
        {
          "output_type": "display_data",
          "data": {
            "text/plain": [
              "<Figure size 600x400 with 1 Axes>"
            ],
            "image/png": "[encoded data removed]"
          },
          "metadata": {}
        }
      ],
      "source": [
        "from sklearn.datasets import load_breast_cancer\n",
        "from sklearn.model_selection import train_test_split\n",
        "from sklearn.naive_bayes import GaussianNB\n",
        "from sklearn.metrics import roc_auc_score, roc_curve\n",
        "import matplotlib.pyplot as plt\n",
        "\n",
        "#Load the dataset\n",
        "data = load_breast_cancer()\n",
        "X = data.data\n",
        "y = data.target\n",
        "\n",
        "#Split into training and test sets\n",
        "X_train, X_test, y_train, y_test = train_test_split(\n",
        "    X, y, test_size=0.3, random_state=42, stratify=y\n",
        ")\n",
        "\n",
        "#Train a Naïve Bayes classifier\n",
        "nb_model = GaussianNB()\n",
        "nb_model.fit(X_train, y_train)\n",
        "\n",
        "#Predict probabilities\n",
        "y_proba = nb_model.predict_proba(X_test)[:, 1]\n",
        "\n",
        "#Calculate ROC-AUC score\n",
        "roc_auc = roc_auc_score(y_test, y_proba)\n",
        "print(f\"ROC-AUC Score: {roc_auc:.4f}\")\n",
        "\n",
        "#Plot the ROC Curve\n",
        "fpr, tpr, thresholds = roc_curve(y_test, y_proba)\n",
        "plt.figure(figsize=(6, 4))\n",
        "plt.plot(fpr, tpr, label=f'AUC = {roc_auc:.2f}')\n",
        "plt.plot([0, 1], [0, 1], 'k--', label='Random')\n",
        "plt.xlabel('False Positive Rate')\n",
        "plt.ylabel('True Positive Rate')\n",
        "plt.title('ROC Curve - Naïve Bayes')\n",
        "plt.legend()\n",
        "plt.grid(True)\n",
        "plt.tight_layout()\n",
        "plt.show()\n"
      ]
    },
    {
      "cell_type": "markdown",
      "source": [
        "## **Q46.Write a Python program to train an SVM Classifier and visualize the Precision-Recall Curve.**"
      ],
      "metadata": {
        "id": "XqlTZWqNvn0f"
      }
    },
    {
      "cell_type": "code",
      "source": [
        "import matplotlib.pyplot as plt\n",
        "from sklearn import datasets\n",
        "from sklearn.model_selection import train_test_split\n",
        "from sklearn.preprocessing import StandardScaler\n",
        "from sklearn.svm import SVC\n",
        "from sklearn.metrics import precision_recall_curve, average_precision_score\n",
        "\n",
        "#Load dataset (binary classification)\n",
        "data = datasets.load_breast_cancer()\n",
        "X = data.data\n",
        "y = data.target\n",
        "\n",
        "#Split dataset\n",
        "X_train, X_test, y_train, y_test = train_test_split(X, y, test_size=0.3, random_state=42)\n",
        "\n",
        "#Scale features\n",
        "scaler = StandardScaler()\n",
        "X_train = scaler.fit_transform(X_train)\n",
        "X_test = scaler.transform(X_test)\n",
        "\n",
        "#Train SVM with probability estimates\n",
        "svm_clf = SVC(kernel='rbf', C=1.0, probability=True, random_state=42)\n",
        "svm_clf.fit(X_train, y_train)\n",
        "\n",
        "#Get predicted probabilities for class 1\n",
        "y_scores = svm_clf.predict_proba(X_test)[:, 1]\n",
        "\n",
        "#Calculate precision-recall values\n",
        "precision, recall, thresholds = precision_recall_curve(y_test, y_scores)\n",
        "avg_precision = average_precision_score(y_test, y_scores)\n",
        "\n",
        "#Plot Precision-Recall curve\n",
        "plt.figure(figsize=(8, 6))\n",
        "plt.plot(recall, precision, color='blue', linewidth=2, label=f'Avg Precision = {avg_precision:.2f}')\n",
        "plt.xlabel('Recall')\n",
        "plt.ylabel('Precision')\n",
        "plt.title('Precision-Recall Curve for SVM Classifier')\n",
        "plt.legend()\n",
        "plt.grid(True)\n",
        "plt.show()\n"
      ],
      "metadata": {
        "colab": {
          "base_uri": "https://localhost:8080/",
          "height": 0
        },
        "id": "vzZTISvMvtAU",
        "outputId": "023de18e-a3e3-4a4d-8f79-c434b0daaf7d"
      },
      "execution_count": 34,
      "outputs": [
        {
          "output_type": "display_data",
          "data": {
            "text/plain": [
              "<Figure size 800x600 with 1 Axes>"
            ],
            "image/png": "[encoded data removed]"
          },
          "metadata": {}
        }
      ]
    }
  ],
  "metadata": {
    "colab": {
      "collapsed_sections": [
        "QIFCCrpnp8GC",
        "T6xS2GijbHmf",
        "HNIZx-TebHpo",
        "jk0cd17Qb6X7",
        "gN6ZQr979sgq",
        "aHgxRcejBQxc",
        "ofxyIwKdEFq1",
        "Fmnmczg0I4jq",
        "HOnkLs1SKgI_",
        "p1U3UGu8NMAS",
        "XNgjknwGOgaI",
        "PRCmfTUKPRCs",
        "sJijhHBFQqeB",
        "0jL3Mn9cUBFb",
        "F5FK8W7vWDOz",
        "OSiuhDJ5YqdG",
        "zCLdqfhAZW2O",
        "3ND8AdZ6ZjdZ",
        "pT5o74TicNWV",
        "k4a6pBUhequ8",
        "e0pzSQMWkbVH",
        "YAYPY-jeqEss",
        "SOlEYITZqKfF",
        "emlA_M-yhZZV",
        "ebZTs1OEmrps",
        "tGbbiQ5kp9VH",
        "9QEsRKJJxUiN",
        "cXAIvLMYy5-q",
        "A5zu39Vwo92J",
        "be-RI3Ccj9TJ",
        "E5zTDmRMoqDV",
        "EhgKVUT61OiH",
        "GJ97-gysQd9D",
        "foW93rhUVfYU",
        "nj-3nIcMXC6P",
        "wyuXgwOKmxfs",
        "B4jWX11gqelv",
        "lkp-3HuxsJ_T",
        "1qVkRNjsxJUn",
        "V_5Jbbo959Pw",
        "tw7RLxBh9jyZ",
        "WCwgeZB4blbw",
        "Dc8wHsupgQ5R",
        "7-zdhnC5Ipht",
        "Hq5y6RPzNZww",
        "E-_LWYBEPzbd",
        "hqKlPbn5cVPx",
        "XqlTZWqNvn0f"
      ],
      "provenance": []
    },
    "kernelspec": {
      "display_name": "Python 3",
      "name": "python3"
    },
    "language_info": {
      "name": "python"
    }
  },
  "nbformat": 4,
  "nbformat_minor": 0
}